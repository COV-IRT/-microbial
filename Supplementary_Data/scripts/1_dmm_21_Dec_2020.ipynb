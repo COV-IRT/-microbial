{
 "cells": [
  {
   "cell_type": "markdown",
   "metadata": {},
   "source": [
    "# DMM Clustering Analysis\n",
    "###  COVIRT19 microbial subgroup seqscreen analysis \n",
    "#### Date : 21 DEC 2020 \n",
    "#### Maintained by :\n",
    "    Jochum, Michael D. \n",
    "    Baylor College of Medicine \n",
    "    michael.jochum@bcm.edu"
   ]
  },
  {
   "cell_type": "markdown",
   "metadata": {},
   "source": [
    "#### The purpose of this code is to:\n",
    "- use dmm clustering unsupervised machinge learning to cluster samples based on the GO Term counts"
   ]
  },
  {
   "cell_type": "markdown",
   "metadata": {},
   "source": [
    "load the libraries and set the environment"
   ]
  },
  {
   "cell_type": "code",
   "execution_count": 51,
   "metadata": {},
   "outputs": [],
   "source": [
    "library(tidyverse)\n",
    "library(phyloseq)\n",
    "setwd('../')"
   ]
  },
  {
   "cell_type": "markdown",
   "metadata": {},
   "source": [
    "load the preprocessing RData"
   ]
  },
  {
   "cell_type": "code",
   "execution_count": 40,
   "metadata": {},
   "outputs": [],
   "source": [
    "load(file = \"./images/0_preprocessing.RDA\")"
   ]
  },
  {
   "cell_type": "markdown",
   "metadata": {},
   "source": [
    "### Dirichlet multinomial mixture modeling"
   ]
  },
  {
   "cell_type": "code",
   "execution_count": 41,
   "metadata": {},
   "outputs": [
    {
     "data": {
      "text/plain": [
       "phyloseq-class experiment-level object\n",
       "otu_table()   OTU Table:         [ 13534 taxa and 86 samples ]\n",
       "sample_data() Sample Data:       [ 86 samples by 71 sample variables ]\n",
       "tax_table()   Taxonomy Table:    [ 13534 taxa by 3 taxonomic ranks ]"
      ]
     },
     "metadata": {},
     "output_type": "display_data"
    }
   ],
   "source": [
    "pseq <- term_pseq_no_neg\n",
    "pseq  #[ 13534 taxa and 86 samples ]"
   ]
  },
  {
   "cell_type": "markdown",
   "metadata": {},
   "source": [
    "In order to run the dmm clustering analysis we need to transform the counts by sqrt which decreases the disparity in counts while maintining the resolution"
   ]
  },
  {
   "cell_type": "code",
   "execution_count": 42,
   "metadata": {},
   "outputs": [],
   "source": [
    "#Lets try sqrt root\n",
    "dat <-(sqrt(abundances(pseq)))\n",
    "count <- as.matrix(t(dat))"
   ]
  },
  {
   "cell_type": "markdown",
   "metadata": {},
   "source": [
    "Run the model"
   ]
  },
  {
   "cell_type": "code",
   "execution_count": 43,
   "metadata": {},
   "outputs": [
    {
     "name": "stdout",
     "output_type": "stream",
     "text": [
      "[1] \"dmm modeling starting\"\n"
     ]
    },
    {
     "name": "stderr",
     "output_type": "stream",
     "text": [
      "dmn, k=1\n",
      "\n"
     ]
    },
    {
     "name": "stdout",
     "output_type": "stream",
     "text": [
      "  Soft kmeans\n",
      "  Expectation Maximization setup\n",
      "  Expectation Maximization\n",
      "  Hessian\n"
     ]
    },
    {
     "name": "stderr",
     "output_type": "stream",
     "text": [
      "dmn, k=2\n",
      "\n"
     ]
    },
    {
     "name": "stdout",
     "output_type": "stream",
     "text": [
      "  Soft kmeans\n",
      "  Expectation Maximization setup\n",
      "  Expectation Maximization\n",
      "  Hessian\n"
     ]
    },
    {
     "name": "stderr",
     "output_type": "stream",
     "text": [
      "dmn, k=3\n",
      "\n"
     ]
    },
    {
     "name": "stdout",
     "output_type": "stream",
     "text": [
      "  Soft kmeans\n",
      "    iteration 10 change 0.000022\n",
      "  Expectation Maximization setup\n",
      "  Expectation Maximization\n",
      "  Hessian\n"
     ]
    },
    {
     "name": "stderr",
     "output_type": "stream",
     "text": [
      "dmn, k=4\n",
      "\n"
     ]
    },
    {
     "name": "stdout",
     "output_type": "stream",
     "text": [
      "  Soft kmeans\n",
      "    iteration 10 change 0.000002\n",
      "  Expectation Maximization setup\n",
      "  Expectation Maximization\n",
      "  Hessian\n"
     ]
    },
    {
     "name": "stderr",
     "output_type": "stream",
     "text": [
      "dmn, k=5\n",
      "\n"
     ]
    },
    {
     "name": "stdout",
     "output_type": "stream",
     "text": [
      "  Soft kmeans\n",
      "    iteration 10 change 0.000016\n",
      "  Expectation Maximization setup\n",
      "  Expectation Maximization\n",
      "  Hessian\n"
     ]
    },
    {
     "name": "stderr",
     "output_type": "stream",
     "text": [
      "dmn, k=6\n",
      "\n"
     ]
    },
    {
     "name": "stdout",
     "output_type": "stream",
     "text": [
      "  Soft kmeans\n",
      "    iteration 10 change 0.000027\n",
      "  Expectation Maximization setup\n",
      "  Expectation Maximization\n",
      "  Hessian\n"
     ]
    },
    {
     "name": "stderr",
     "output_type": "stream",
     "text": [
      "dmn, k=7\n",
      "\n"
     ]
    },
    {
     "name": "stdout",
     "output_type": "stream",
     "text": [
      "  Soft kmeans\n",
      "    iteration 10 change 0.000044\n",
      "  Expectation Maximization setup\n",
      "  Expectation Maximization\n",
      "  Hessian\n"
     ]
    },
    {
     "name": "stderr",
     "output_type": "stream",
     "text": [
      "dmn, k=8\n",
      "\n"
     ]
    },
    {
     "name": "stdout",
     "output_type": "stream",
     "text": [
      "  Soft kmeans\n",
      "    iteration 10 change 0.000037\n",
      "  Expectation Maximization setup\n",
      "  Expectation Maximization\n",
      "  Hessian\n",
      "[1] \"dmm modeling finished\"\n",
      "[[1]]\n",
      "class: DMN \n",
      "k: 1 \n",
      "samples x taxa: 86 x 13534 \n",
      "Laplace: 1357724 BIC: 1384701 AIC: 1368092 \n",
      "\n",
      "[[2]]\n",
      "class: DMN \n",
      "k: 2 \n",
      "samples x taxa: 86 x 13534 \n",
      "Laplace: 1310725 BIC: 1378274 AIC: 1345056 \n",
      "\n",
      "[[3]]\n",
      "class: DMN \n",
      "k: 3 \n",
      "samples x taxa: 86 x 13534 \n",
      "Laplace: 1292084 BIC: 1391186 AIC: 1341358 \n",
      "\n",
      "[[4]]\n",
      "class: DMN \n",
      "k: 4 \n",
      "samples x taxa: 86 x 13534 \n",
      "Laplace: 1299803 BIC: 1435896 AIC: 1369458 \n",
      "\n",
      "[[5]]\n",
      "class: DMN \n",
      "k: 5 \n",
      "samples x taxa: 86 x 13534 \n",
      "Laplace: Inf BIC: 1496174 AIC: 1413126 \n",
      "\n",
      "[[6]]\n",
      "class: DMN \n",
      "k: 6 \n",
      "samples x taxa: 86 x 13534 \n",
      "Laplace: Inf BIC: 1575826 AIC: 1476169 \n",
      "\n",
      "[[7]]\n",
      "class: DMN \n",
      "k: 7 \n",
      "samples x taxa: 86 x 13534 \n",
      "Laplace: 1388216 BIC: 1606348 AIC: 1490080 \n",
      "\n",
      "[[8]]\n",
      "class: DMN \n",
      "k: 8 \n",
      "samples x taxa: 86 x 13534 \n",
      "Laplace: Inf BIC: 1699237 AIC: 1566360 \n",
      "\n",
      "dmm_modeling: 13938.791 sec elapsed\n"
     ]
    }
   ],
   "source": [
    "tic(\"dmm_modeling\")\n",
    "    print(\"dmm modeling starting\")\n",
    "    fit <- lapply(1:8, dmn, count = count, verbose=TRUE)\n",
    "    print(\"dmm modeling finished\")\n",
    "    print(fit)\n",
    "toc()"
   ]
  },
  {
   "cell_type": "markdown",
   "metadata": {},
   "source": [
    "look at the results of the fit"
   ]
  },
  {
   "cell_type": "code",
   "execution_count": 44,
   "metadata": {},
   "outputs": [
    {
     "data": {
      "image/png": "[encoded data removed]",
      "text/plain": [
       "plot without title"
      ]
     },
     "metadata": {
      "image/png": {
       "height": 420,
       "width": 420
      }
     },
     "output_type": "display_data"
    }
   ],
   "source": [
    "set.seed(seed = 3.14159265358979) #cool number\n",
    "lplc <- sapply(fit, laplace) # AIC / BIC / Laplace\n",
    "aic  <- sapply(fit, AIC) # AIC / BIC / Laplace\n",
    "bic  <- sapply(fit, BIC) # AIC / BIC / Laplace\n",
    "plot(lplc, type=\"b\", xlab=\"Number of Dirichlet Components\", ylab=\"Model Fit\")"
   ]
  },
  {
   "cell_type": "markdown",
   "metadata": {},
   "source": [
    "looks like there are 3 distinct clusters"
   ]
  },
  {
   "cell_type": "code",
   "execution_count": 45,
   "metadata": {},
   "outputs": [
    {
     "data": {
      "text/plain": [
       "class: DMN \n",
       "k: 3 \n",
       "samples x taxa: 86 x 13534 \n",
       "Laplace: 1292084 BIC: 1391186 AIC: 1341358 "
      ]
     },
     "metadata": {},
     "output_type": "display_data"
    }
   ],
   "source": [
    "best <- fit[[which.min(lplc)]]\n",
    "best"
   ]
  },
  {
   "cell_type": "markdown",
   "metadata": {},
   "source": [
    "print out the theta values"
   ]
  },
  {
   "cell_type": "code",
   "execution_count": 46,
   "metadata": {},
   "outputs": [
    {
     "data": {
      "text/html": [
       "<table>\n",
       "<caption>A data.frame: 3 × 2</caption>\n",
       "<thead>\n",
       "\t<tr><th scope=col>pi</th><th scope=col>theta</th></tr>\n",
       "\t<tr><th scope=col>&lt;dbl&gt;</th><th scope=col>&lt;dbl&gt;</th></tr>\n",
       "</thead>\n",
       "<tbody>\n",
       "\t<tr><td>0.4534884</td><td> 9385.946</td></tr>\n",
       "\t<tr><td>0.3953488</td><td> 4783.906</td></tr>\n",
       "\t<tr><td>0.1511628</td><td>31684.925</td></tr>\n",
       "</tbody>\n",
       "</table>\n"
      ],
      "text/latex": [
       "A data.frame: 3 × 2\n",
       "\\begin{tabular}{ll}\n",
       " pi & theta\\\\\n",
       " <dbl> & <dbl>\\\\\n",
       "\\hline\n",
       "\t 0.4534884 &  9385.946\\\\\n",
       "\t 0.3953488 &  4783.906\\\\\n",
       "\t 0.1511628 & 31684.925\\\\\n",
       "\\end{tabular}\n"
      ],
      "text/markdown": [
       "\n",
       "A data.frame: 3 × 2\n",
       "\n",
       "| pi &lt;dbl&gt; | theta &lt;dbl&gt; |\n",
       "|---|---|\n",
       "| 0.4534884 |  9385.946 |\n",
       "| 0.3953488 |  4783.906 |\n",
       "| 0.1511628 | 31684.925 |\n",
       "\n"
      ],
      "text/plain": [
       "  pi        theta    \n",
       "1 0.4534884  9385.946\n",
       "2 0.3953488  4783.906\n",
       "3 0.1511628 31684.925"
      ]
     },
     "metadata": {},
     "output_type": "display_data"
    }
   ],
   "source": [
    "mixturewt(best)"
   ]
  },
  {
   "cell_type": "markdown",
   "metadata": {},
   "source": [
    "save the datasheet that show which GO terms contributed to each dmm group"
   ]
  },
  {
   "cell_type": "code",
   "execution_count": 47,
   "metadata": {},
   "outputs": [],
   "source": [
    "write.table(fitted(best),\"./results/GO_TERMS_DMM_contributions.tsv\", sep=\"\\t\")"
   ]
  },
  {
   "cell_type": "markdown",
   "metadata": {},
   "source": [
    "save a datasheet that identifies which sample belongs to which dmm group"
   ]
  },
  {
   "cell_type": "code",
   "execution_count": 48,
   "metadata": {},
   "outputs": [],
   "source": [
    "ass <- apply(mixture(best), 1, which.max)\n",
    "write.table(ass,\"./results/GO_TERMS_DMM_groups.tsv\",sep=\"\")"
   ]
  },
  {
   "cell_type": "code",
   "execution_count": 49,
   "metadata": {},
   "outputs": [],
   "source": [
    "#add the dmm group to the metadata\n",
    "sample_data(term_pseq_no_neg_gonames)$dmn<-ass"
   ]
  },
  {
   "cell_type": "code",
   "execution_count": 50,
   "metadata": {},
   "outputs": [],
   "source": [
    "save.image(file = \"./images/1_dmm.RDA\")"
   ]
  },
  {
   "cell_type": "code",
   "execution_count": null,
   "metadata": {},
   "outputs": [],
   "source": []
  }
 ],
 "metadata": {
  "kernelspec": {
   "display_name": "R",
   "language": "R",
   "name": "ir"
  },
  "language_info": {
   "codemirror_mode": "r",
   "file_extension": ".r",
   "mimetype": "text/x-r-source",
   "name": "R",
   "pygments_lexer": "r",
   "version": "4.0.3"
  }
 },
 "nbformat": 4,
 "nbformat_minor": 4
}
