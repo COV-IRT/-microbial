{
 "cells": [
  {
   "cell_type": "markdown",
   "metadata": {},
   "source": [
    "## Maaslin 2 Analysis of GO Terms for COVIRT19"
   ]
  },
  {
   "cell_type": "markdown",
   "metadata": {},
   "source": [
    " Lets install some R packages that we are gonna need to run this analysis"
   ]
  },
  {
   "cell_type": "markdown",
   "metadata": {},
   "source": [
    "#if(!requireNamespace(\"BiocManager\", quietly = TRUE))\n",
    "#install.packages(\"BiocManager\")"
   ]
  },
  {
   "cell_type": "code",
   "execution_count": 1,
   "metadata": {},
   "outputs": [],
   "source": [
    "#if (!requireNamespace(\"BiocManager\", quietly = TRUE))\n",
    "#BiocManager::install(c(\"Maaslin2\", \"DESeq2\",'phyloseq','microbiome','DirichletMultinomial','GenomicRanges'))"
   ]
  },
  {
   "cell_type": "code",
   "execution_count": 2,
   "metadata": {},
   "outputs": [],
   "source": [
    "#install.packages(\"remotes\")\n",
    "#remotes::install_github(\"mikemc/speedyseq\")\n",
    "#install.packages(c('circlize','ggpubr','viridis','mosaic'))"
   ]
  },
  {
   "cell_type": "markdown",
   "metadata": {},
   "source": [
    "Now lets load our libraries and set out environment"
   ]
  },
  {
   "cell_type": "code",
   "execution_count": 3,
   "metadata": {},
   "outputs": [
    {
     "name": "stderr",
     "output_type": "stream",
     "text": [
      "── \u001b[1mAttaching packages\u001b[22m ─────────────────────────────────────── tidyverse 1.3.0 ──\n",
      "\n",
      "\u001b[32m✔\u001b[39m \u001b[34mggplot2\u001b[39m 3.3.2     \u001b[32m✔\u001b[39m \u001b[34mpurrr  \u001b[39m 0.3.4\n",
      "\u001b[32m✔\u001b[39m \u001b[34mtibble \u001b[39m 3.0.4     \u001b[32m✔\u001b[39m \u001b[34mdplyr  \u001b[39m 1.0.2\n",
      "\u001b[32m✔\u001b[39m \u001b[34mtidyr  \u001b[39m 1.1.2     \u001b[32m✔\u001b[39m \u001b[34mstringr\u001b[39m 1.4.0\n",
      "\u001b[32m✔\u001b[39m \u001b[34mreadr  \u001b[39m 1.4.0     \u001b[32m✔\u001b[39m \u001b[34mforcats\u001b[39m 0.5.0\n",
      "\n",
      "── \u001b[1mConflicts\u001b[22m ────────────────────────────────────────── tidyverse_conflicts() ──\n",
      "\u001b[31m✖\u001b[39m \u001b[34mdplyr\u001b[39m::\u001b[32mfilter()\u001b[39m masks \u001b[34mstats\u001b[39m::filter()\n",
      "\u001b[31m✖\u001b[39m \u001b[34mdplyr\u001b[39m::\u001b[32mlag()\u001b[39m    masks \u001b[34mstats\u001b[39m::lag()\n",
      "\n",
      "\n",
      "microbiome R package (microbiome.github.com)\n",
      "    \n",
      "\n",
      "\n",
      " Copyright (C) 2011-2020 Leo Lahti, \n",
      "    Sudarshan Shetty et al. <microbiome.github.io>\n",
      "\n",
      "\n",
      "\n",
      "Attaching package: ‘microbiome’\n",
      "\n",
      "\n",
      "The following object is masked from ‘package:ggplot2’:\n",
      "\n",
      "    alpha\n",
      "\n",
      "\n",
      "The following object is masked from ‘package:base’:\n",
      "\n",
      "    transform\n",
      "\n",
      "\n",
      "Loading required package: S4Vectors\n",
      "\n",
      "Loading required package: stats4\n",
      "\n",
      "Loading required package: BiocGenerics\n",
      "\n",
      "Loading required package: parallel\n",
      "\n",
      "\n",
      "Attaching package: ‘BiocGenerics’\n",
      "\n",
      "\n",
      "The following objects are masked from ‘package:parallel’:\n",
      "\n",
      "    clusterApply, clusterApplyLB, clusterCall, clusterEvalQ,\n",
      "    clusterExport, clusterMap, parApply, parCapply, parLapply,\n",
      "    parLapplyLB, parRapply, parSapply, parSapplyLB\n",
      "\n",
      "\n",
      "The following objects are masked from ‘package:dplyr’:\n",
      "\n",
      "    combine, intersect, setdiff, union\n",
      "\n",
      "\n",
      "The following objects are masked from ‘package:stats’:\n",
      "\n",
      "    IQR, mad, sd, var, xtabs\n",
      "\n",
      "\n",
      "The following objects are masked from ‘package:base’:\n",
      "\n",
      "    anyDuplicated, append, as.data.frame, basename, cbind, colnames,\n",
      "    dirname, do.call, duplicated, eval, evalq, Filter, Find, get, grep,\n",
      "    grepl, intersect, is.unsorted, lapply, Map, mapply, match, mget,\n",
      "    order, paste, pmax, pmax.int, pmin, pmin.int, Position, rank,\n",
      "    rbind, Reduce, rownames, sapply, setdiff, sort, table, tapply,\n",
      "    union, unique, unsplit, which.max, which.min\n",
      "\n",
      "\n",
      "\n",
      "Attaching package: ‘S4Vectors’\n",
      "\n",
      "\n",
      "The following objects are masked from ‘package:dplyr’:\n",
      "\n",
      "    first, rename\n",
      "\n",
      "\n",
      "The following object is masked from ‘package:tidyr’:\n",
      "\n",
      "    expand\n",
      "\n",
      "\n",
      "The following object is masked from ‘package:base’:\n",
      "\n",
      "    expand.grid\n",
      "\n",
      "\n",
      "Loading required package: IRanges\n",
      "\n",
      "\n",
      "Attaching package: ‘IRanges’\n",
      "\n",
      "\n",
      "The following object is masked from ‘package:microbiome’:\n",
      "\n",
      "    coverage\n",
      "\n",
      "\n",
      "The following object is masked from ‘package:phyloseq’:\n",
      "\n",
      "    distance\n",
      "\n",
      "\n",
      "The following objects are masked from ‘package:dplyr’:\n",
      "\n",
      "    collapse, desc, slice\n",
      "\n",
      "\n",
      "The following object is masked from ‘package:purrr’:\n",
      "\n",
      "    reduce\n",
      "\n",
      "\n",
      "Loading required package: GenomicRanges\n",
      "\n",
      "Loading required package: GenomeInfoDb\n",
      "\n",
      "Loading required package: SummarizedExperiment\n",
      "\n",
      "Loading required package: MatrixGenerics\n",
      "\n",
      "Loading required package: matrixStats\n",
      "\n",
      "\n",
      "Attaching package: ‘matrixStats’\n",
      "\n",
      "\n",
      "The following object is masked from ‘package:dplyr’:\n",
      "\n",
      "    count\n",
      "\n",
      "\n",
      "\n",
      "Attaching package: ‘MatrixGenerics’\n",
      "\n",
      "\n",
      "The following objects are masked from ‘package:matrixStats’:\n",
      "\n",
      "    colAlls, colAnyNAs, colAnys, colAvgsPerRowSet, colCollapse,\n",
      "    colCounts, colCummaxs, colCummins, colCumprods, colCumsums,\n",
      "    colDiffs, colIQRDiffs, colIQRs, colLogSumExps, colMadDiffs,\n",
      "    colMads, colMaxs, colMeans2, colMedians, colMins, colOrderStats,\n",
      "    colProds, colQuantiles, colRanges, colRanks, colSdDiffs, colSds,\n",
      "    colSums2, colTabulates, colVarDiffs, colVars, colWeightedMads,\n",
      "    colWeightedMeans, colWeightedMedians, colWeightedSds,\n",
      "    colWeightedVars, rowAlls, rowAnyNAs, rowAnys, rowAvgsPerColSet,\n",
      "    rowCollapse, rowCounts, rowCummaxs, rowCummins, rowCumprods,\n",
      "    rowCumsums, rowDiffs, rowIQRDiffs, rowIQRs, rowLogSumExps,\n",
      "    rowMadDiffs, rowMads, rowMaxs, rowMeans2, rowMedians, rowMins,\n",
      "    rowOrderStats, rowProds, rowQuantiles, rowRanges, rowRanks,\n",
      "    rowSdDiffs, rowSds, rowSums2, rowTabulates, rowVarDiffs, rowVars,\n",
      "    rowWeightedMads, rowWeightedMeans, rowWeightedMedians,\n",
      "    rowWeightedSds, rowWeightedVars\n",
      "\n",
      "\n",
      "Loading required package: Biobase\n",
      "\n",
      "Welcome to Bioconductor\n",
      "\n",
      "    Vignettes contain introductory material; view with\n",
      "    'browseVignettes()'. To cite Bioconductor, see\n",
      "    'citation(\"Biobase\")', and for packages 'citation(\"pkgname\")'.\n",
      "\n",
      "\n",
      "\n",
      "Attaching package: ‘Biobase’\n",
      "\n",
      "\n",
      "The following object is masked from ‘package:MatrixGenerics’:\n",
      "\n",
      "    rowMedians\n",
      "\n",
      "\n",
      "The following objects are masked from ‘package:matrixStats’:\n",
      "\n",
      "    anyMissing, rowMedians\n",
      "\n",
      "\n",
      "The following object is masked from ‘package:phyloseq’:\n",
      "\n",
      "    sampleNames\n",
      "\n",
      "\n",
      "Loading required package: viridisLite\n",
      "\n",
      "Registered S3 method overwritten by 'mosaic':\n",
      "  method                           from   \n",
      "  fortify.SpatialPolygonsDataFrame ggplot2\n",
      "\n",
      "\n",
      "The 'mosaic' package masks several functions from core packages in order to add \n",
      "additional features.  The original behavior of these functions should not be affected by this.\n",
      "\n",
      "\n",
      "Attaching package: ‘mosaic’\n",
      "\n",
      "\n",
      "The following object is masked from ‘package:Matrix’:\n",
      "\n",
      "    mean\n",
      "\n",
      "\n",
      "The following object is masked from ‘package:DESeq2’:\n",
      "\n",
      "    counts\n",
      "\n",
      "\n",
      "The following objects are masked from ‘package:matrixStats’:\n",
      "\n",
      "    count, iqr\n",
      "\n",
      "\n",
      "The following objects are masked from ‘package:IRanges’:\n",
      "\n",
      "    cor, cov, IQR, mean, median, mid, quantile, sd, var\n",
      "\n",
      "\n",
      "The following objects are masked from ‘package:S4Vectors’:\n",
      "\n",
      "    cor, cov, sd, var\n",
      "\n",
      "\n",
      "The following objects are masked from ‘package:BiocGenerics’:\n",
      "\n",
      "    counts, IQR, mean, sd, var\n",
      "\n",
      "\n",
      "The following objects are masked from ‘package:dplyr’:\n",
      "\n",
      "    count, do, tally\n",
      "\n",
      "\n",
      "The following object is masked from ‘package:purrr’:\n",
      "\n",
      "    cross\n",
      "\n",
      "\n",
      "The following object is masked from ‘package:ggplot2’:\n",
      "\n",
      "    stat\n",
      "\n",
      "\n",
      "The following objects are masked from ‘package:stats’:\n",
      "\n",
      "    binom.test, cor, cor.test, cov, fivenum, IQR, median, prop.test,\n",
      "    quantile, sd, t.test, var\n",
      "\n",
      "\n",
      "The following objects are masked from ‘package:base’:\n",
      "\n",
      "    max, mean, min, prod, range, sample, sum\n",
      "\n",
      "\n"
     ]
    }
   ],
   "source": [
    "library(tidyverse)\n",
    "library(phyloseq)\n",
    "library(microbiome)\n",
    "library(DESeq2)\n",
    "library(Maaslin2)\n",
    "library(parallel)\n",
    "library(DirichletMultinomial)\n",
    "library(pheatmap)\n",
    "library(ggpubr)\n",
    "library(viridis)\n",
    "library(mosaic)"
   ]
  },
  {
   "cell_type": "code",
   "execution_count": 4,
   "metadata": {},
   "outputs": [
    {
     "data": {
      "text/html": [
       "'/home/jovyan/work/Aagaard_Raid3/microbial/GO_term_analysis'"
      ],
      "text/latex": [
       "'/home/jovyan/work/Aagaard\\_Raid3/microbial/GO\\_term\\_analysis'"
      ],
      "text/markdown": [
       "'/home/jovyan/work/Aagaard_Raid3/microbial/GO_term_analysis'"
      ],
      "text/plain": [
       "[1] \"/home/jovyan/work/Aagaard_Raid3/microbial/GO_term_analysis\""
      ]
     },
     "metadata": {},
     "output_type": "display_data"
    }
   ],
   "source": [
    "setwd('/home/jovyan/work/Aagaard_Raid3/microbial/GO_term_analysis/')\n",
    "getwd()"
   ]
  },
  {
   "cell_type": "code",
   "execution_count": 5,
   "metadata": {},
   "outputs": [],
   "source": [
    "raw<-as_tibble(read.table(\"Combined_BALF_GO_Terms_parent_propagated.tsv\", sep = \"\\t\", row.names = NULL, header = T, quote = \"\", comment.char = \"\"))"
   ]
  },
  {
   "cell_type": "markdown",
   "metadata": {},
   "source": [
    "A tibble: 47,233 x 2,020     # good so far now\n",
    "do a little regex and fix some stuff"
   ]
  },
  {
   "cell_type": "code",
   "execution_count": 6,
   "metadata": {},
   "outputs": [],
   "source": [
    "colnames(raw)<-gsub(\"NA_tax\",\"unclass\", colnames(raw))%>%str_replace_all(\"NC1_SRR7796663\", \"NC1.SRR7796663\")"
   ]
  },
  {
   "cell_type": "markdown",
   "metadata": {},
   "source": [
    "Transform the raw table by type of count (euk, term, bac, arc)"
   ]
  },
  {
   "cell_type": "code",
   "execution_count": 7,
   "metadata": {},
   "outputs": [],
   "source": [
    "df<-raw %>%\n",
    "  select(GO_term,namespace,depth,name,ends_with(\"_counts\"))%>%\n",
    "  pivot_longer(cols = -c(GO_term,namespace,depth,name),\n",
    "               names_to =  c(\"sample\",\"type\",\"abund\"),#c(\"Total\", \"Archaea\",\"Bacteria\",\"Eukarya\", \"Viridae\", \"Unclassified\"),\n",
    "               names_pattern = \"(.*)_(.*)_(.*)\")%>%\n",
    "  select(-abund)%>%\n",
    "  filter(value>1)%>%\n",
    "  pivot_wider(names_from = sample, values_from=value, values_fill=0)\n",
    "#SIDE NOTE:There are multiple processes and values for a single sample so you cant convert the sample to columns"
   ]
  },
  {
   "cell_type": "markdown",
   "metadata": {},
   "source": [
    "Make individual tibbles for biological processes and molecular fxn"
   ]
  },
  {
   "cell_type": "code",
   "execution_count": 8,
   "metadata": {},
   "outputs": [],
   "source": [
    "bio<-filter(df, namespace==\"biological_process\")\n",
    "mol<-filter(df, namespace==\"molecular_function\")"
   ]
  },
  {
   "cell_type": "markdown",
   "metadata": {},
   "source": [
    "make individual tibbles for each type (bac, euk, term, arc, vir, etc)"
   ]
  },
  {
   "cell_type": "code",
   "execution_count": 9,
   "metadata": {},
   "outputs": [],
   "source": [
    "bio_bac<-bio%>%filter(type==\"bac\")%>%select(-type)\n",
    "bio_term<-bio%>%filter(type==\"term\")%>%select(-type)\n",
    "mol_bac<-mol%>%filter(type==\"bac\")%>%select(-type)\n",
    "mol_term<-mol%>%filter(type==\"term\")%>%select(-type)"
   ]
  },
  {
   "cell_type": "markdown",
   "metadata": {},
   "source": [
    "subselect tibbles for only the counts and go terminology"
   ]
  },
  {
   "cell_type": "code",
   "execution_count": 10,
   "metadata": {},
   "outputs": [],
   "source": [
    "bio_bac_counts<-bio_bac%>%select(-c(namespace,depth,name))\n",
    "bio_bac_tax<-bio_bac%>%select(GO_term,namespace,depth,name)\n",
    "mol_bac_counts<-mol_bac%>%select(-c(namespace,depth,name))\n",
    "mol_bac_tax<-mol_bac%>%select(GO_term,namespace,depth,name)"
   ]
  },
  {
   "cell_type": "markdown",
   "metadata": {},
   "source": [
    "convert them to dataframes for downstream import to phylsoeq"
   ]
  },
  {
   "cell_type": "code",
   "execution_count": 11,
   "metadata": {},
   "outputs": [],
   "source": [
    "bio_bac_counts<-data.frame(bio_bac_counts, row.names=1)\n",
    "bio_bac_tax<-data.frame(bio_bac_tax, row.names=1)\n",
    "mol_bac_counts<-data.frame(mol_bac_counts, row.names=1)\n",
    "mol_bac_tax<-data.frame(mol_bac_tax, row.names=1)"
   ]
  },
  {
   "cell_type": "markdown",
   "metadata": {},
   "source": [
    "convert the dataframes into phyloseq formats"
   ]
  },
  {
   "cell_type": "code",
   "execution_count": 12,
   "metadata": {},
   "outputs": [],
   "source": [
    "bio_bac_counts_phy <- otu_table(bio_bac_counts, taxa_are_rows=TRUE)\n",
    "bio_bac_tax_phy <- tax_table(as.matrix(bio_bac_tax), errorIfNULL=TRUE)\n",
    "mol_bac_counts_phy<-otu_table(mol_bac_counts, taxa_are_rows = T)\n",
    "mol_bac_tax_phy<-tax_table(as.matrix(mol_bac_tax), errorIfNULL = T)"
   ]
  },
  {
   "cell_type": "markdown",
   "metadata": {},
   "source": [
    "import your metadata"
   ]
  },
  {
   "cell_type": "code",
   "execution_count": 13,
   "metadata": {},
   "outputs": [],
   "source": [
    "bio_bac_sam<-as.data.frame(read.table(\"Combined_BALF_GO_Terms_metadata2.txt\",header = T, sep = \"\\t\",row.names = 1))"
   ]
  },
  {
   "cell_type": "markdown",
   "metadata": {},
   "source": [
    "a little regex to fix the stupid filename"
   ]
  },
  {
   "cell_type": "code",
   "execution_count": 14,
   "metadata": {},
   "outputs": [],
   "source": [
    "rownames(bio_bac_sam)<-rownames(bio_bac_sam)%>%str_replace_all(\"NC1_SRR7796663\", \"NC1.SRR7796663\")\n",
    "bio_bac_sam$accession<-rownames(bio_bac_sam)"
   ]
  },
  {
   "cell_type": "markdown",
   "metadata": {},
   "source": [
    "I want to take a moment and thank the curators for all their hard work in annotation the metadata........ =)"
   ]
  },
  {
   "cell_type": "code",
   "execution_count": 15,
   "metadata": {},
   "outputs": [],
   "source": [
    "bio_bac_sam$outcome<-bio_bac_sam$outcome%>%\n",
    "str_replace_all(\"recovered\", \"Recovered\")%>%\n",
    "str_replace_all(\"deceased\",\"Deceased\")%>%\n",
    "str_replace_all('stabilized',\"Stabilized\")\n",
    "###DONT FORGET TO DELETE THESE LINES LATER AFTER YOUR DONE PLAYING AROUND\n",
    "#str_replace_all('Stabilized',\"Survived\")%>%\n",
    "#str_replace_all(\"Recovered\", \"Survived\")\n",
    "###############################################"
   ]
  },
  {
   "cell_type": "code",
   "execution_count": 16,
   "metadata": {},
   "outputs": [
    {
     "data": {
      "text/plain": [
       "sex\n",
       "  <NA> female   male   <NA> \n",
       "    22     54     61     30 "
      ]
     },
     "metadata": {},
     "output_type": "display_data"
    }
   ],
   "source": [
    "bio_bac_sam$sex<-bio_bac_sam$sex%>%\n",
    "str_replace_all(\"M\", \"male\")%>%\n",
    "str_replace_all(\"F\", \"female\")%>%\n",
    "str_replace_all(\"na\", \"<NA>\")\n",
    "tally(~sex,bio_bac_sam)"
   ]
  },
  {
   "cell_type": "code",
   "execution_count": 17,
   "metadata": {},
   "outputs": [
    {
     "data": {
      "text/html": [
       "<table>\n",
       "<caption>A data.frame: 6 × 2</caption>\n",
       "<thead>\n",
       "\t<tr><th scope=col>case</th><th scope=col>Freq</th></tr>\n",
       "\t<tr><th scope=col>&lt;fct&gt;</th><th scope=col>&lt;int&gt;</th></tr>\n",
       "</thead>\n",
       "<tbody>\n",
       "\t<tr><td>Community_acquired_pneumonia</td><td>25</td></tr>\n",
       "\t<tr><td>Control_Healthy             </td><td>32</td></tr>\n",
       "\t<tr><td>Control_Neg                 </td><td> 5</td></tr>\n",
       "\t<tr><td>Control_Sick                </td><td>36</td></tr>\n",
       "\t<tr><td>Control_Unknown             </td><td>21</td></tr>\n",
       "\t<tr><td>COVID19                     </td><td>48</td></tr>\n",
       "</tbody>\n",
       "</table>\n"
      ],
      "text/latex": [
       "A data.frame: 6 × 2\n",
       "\\begin{tabular}{ll}\n",
       " case & Freq\\\\\n",
       " <fct> & <int>\\\\\n",
       "\\hline\n",
       "\t Community\\_acquired\\_pneumonia & 25\\\\\n",
       "\t Control\\_Healthy              & 32\\\\\n",
       "\t Control\\_Neg                  &  5\\\\\n",
       "\t Control\\_Sick                 & 36\\\\\n",
       "\t Control\\_Unknown              & 21\\\\\n",
       "\t COVID19                      & 48\\\\\n",
       "\\end{tabular}\n"
      ],
      "text/markdown": [
       "\n",
       "A data.frame: 6 × 2\n",
       "\n",
       "| case &lt;fct&gt; | Freq &lt;int&gt; |\n",
       "|---|---|\n",
       "| Community_acquired_pneumonia | 25 |\n",
       "| Control_Healthy              | 32 |\n",
       "| Control_Neg                  |  5 |\n",
       "| Control_Sick                 | 36 |\n",
       "| Control_Unknown              | 21 |\n",
       "| COVID19                      | 48 |\n",
       "\n"
      ],
      "text/plain": [
       "  case                         Freq\n",
       "1 Community_acquired_pneumonia 25  \n",
       "2 Control_Healthy              32  \n",
       "3 Control_Neg                   5  \n",
       "4 Control_Sick                 36  \n",
       "5 Control_Unknown              21  \n",
       "6 COVID19                      48  "
      ]
     },
     "metadata": {},
     "output_type": "display_data"
    },
    {
     "data": {
      "text/html": [
       "<table>\n",
       "<caption>A data.frame: 13 × 2</caption>\n",
       "<thead>\n",
       "\t<tr><th scope=col>sample_type</th><th scope=col>Freq</th></tr>\n",
       "\t<tr><th scope=col>&lt;fct&gt;</th><th scope=col>&lt;int&gt;</th></tr>\n",
       "</thead>\n",
       "<tbody>\n",
       "\t<tr><td>Asthma                      </td><td> 7</td></tr>\n",
       "\t<tr><td>Asthma_Ex_smoker            </td><td> 3</td></tr>\n",
       "\t<tr><td>Asthma_Smoker               </td><td> 2</td></tr>\n",
       "\t<tr><td>Community_acquired_pneumonia</td><td>25</td></tr>\n",
       "\t<tr><td>COVID_19                    </td><td>48</td></tr>\n",
       "\t<tr><td>Healthy                     </td><td>32</td></tr>\n",
       "\t<tr><td>neg_control                 </td><td> 5</td></tr>\n",
       "\t<tr><td>Obese                       </td><td> 6</td></tr>\n",
       "\t<tr><td>Obese_Asthma                </td><td> 9</td></tr>\n",
       "\t<tr><td>Obese_Asthma_Smoker         </td><td> 1</td></tr>\n",
       "\t<tr><td>Obese_Smoker                </td><td> 5</td></tr>\n",
       "\t<tr><td>Smoker                      </td><td> 3</td></tr>\n",
       "\t<tr><td>Unknown                     </td><td>21</td></tr>\n",
       "</tbody>\n",
       "</table>\n"
      ],
      "text/latex": [
       "A data.frame: 13 × 2\n",
       "\\begin{tabular}{ll}\n",
       " sample\\_type & Freq\\\\\n",
       " <fct> & <int>\\\\\n",
       "\\hline\n",
       "\t Asthma                       &  7\\\\\n",
       "\t Asthma\\_Ex\\_smoker             &  3\\\\\n",
       "\t Asthma\\_Smoker                &  2\\\\\n",
       "\t Community\\_acquired\\_pneumonia & 25\\\\\n",
       "\t COVID\\_19                     & 48\\\\\n",
       "\t Healthy                      & 32\\\\\n",
       "\t neg\\_control                  &  5\\\\\n",
       "\t Obese                        &  6\\\\\n",
       "\t Obese\\_Asthma                 &  9\\\\\n",
       "\t Obese\\_Asthma\\_Smoker          &  1\\\\\n",
       "\t Obese\\_Smoker                 &  5\\\\\n",
       "\t Smoker                       &  3\\\\\n",
       "\t Unknown                      & 21\\\\\n",
       "\\end{tabular}\n"
      ],
      "text/markdown": [
       "\n",
       "A data.frame: 13 × 2\n",
       "\n",
       "| sample_type &lt;fct&gt; | Freq &lt;int&gt; |\n",
       "|---|---|\n",
       "| Asthma                       |  7 |\n",
       "| Asthma_Ex_smoker             |  3 |\n",
       "| Asthma_Smoker                |  2 |\n",
       "| Community_acquired_pneumonia | 25 |\n",
       "| COVID_19                     | 48 |\n",
       "| Healthy                      | 32 |\n",
       "| neg_control                  |  5 |\n",
       "| Obese                        |  6 |\n",
       "| Obese_Asthma                 |  9 |\n",
       "| Obese_Asthma_Smoker          |  1 |\n",
       "| Obese_Smoker                 |  5 |\n",
       "| Smoker                       |  3 |\n",
       "| Unknown                      | 21 |\n",
       "\n"
      ],
      "text/plain": [
       "   sample_type                  Freq\n",
       "1  Asthma                        7  \n",
       "2  Asthma_Ex_smoker              3  \n",
       "3  Asthma_Smoker                 2  \n",
       "4  Community_acquired_pneumonia 25  \n",
       "5  COVID_19                     48  \n",
       "6  Healthy                      32  \n",
       "7  neg_control                   5  \n",
       "8  Obese                         6  \n",
       "9  Obese_Asthma                  9  \n",
       "10 Obese_Asthma_Smoker           1  \n",
       "11 Obese_Smoker                  5  \n",
       "12 Smoker                        3  \n",
       "13 Unknown                      21  "
      ]
     },
     "metadata": {},
     "output_type": "display_data"
    },
    {
     "data": {
      "text/html": [
       "<table>\n",
       "<caption>A data.frame: 4 × 2</caption>\n",
       "<thead>\n",
       "\t<tr><th scope=col>outcome</th><th scope=col>Freq</th></tr>\n",
       "\t<tr><th scope=col>&lt;fct&gt;</th><th scope=col>&lt;int&gt;</th></tr>\n",
       "</thead>\n",
       "<tbody>\n",
       "\t<tr><td>Deceased  </td><td> 20</td></tr>\n",
       "\t<tr><td>Recovered </td><td> 11</td></tr>\n",
       "\t<tr><td>Stabilized</td><td>  8</td></tr>\n",
       "\t<tr><td>NA        </td><td>128</td></tr>\n",
       "</tbody>\n",
       "</table>\n"
      ],
      "text/latex": [
       "A data.frame: 4 × 2\n",
       "\\begin{tabular}{ll}\n",
       " outcome & Freq\\\\\n",
       " <fct> & <int>\\\\\n",
       "\\hline\n",
       "\t Deceased   &  20\\\\\n",
       "\t Recovered  &  11\\\\\n",
       "\t Stabilized &   8\\\\\n",
       "\t NA         & 128\\\\\n",
       "\\end{tabular}\n"
      ],
      "text/markdown": [
       "\n",
       "A data.frame: 4 × 2\n",
       "\n",
       "| outcome &lt;fct&gt; | Freq &lt;int&gt; |\n",
       "|---|---|\n",
       "| Deceased   |  20 |\n",
       "| Recovered  |  11 |\n",
       "| Stabilized |   8 |\n",
       "| NA         | 128 |\n",
       "\n"
      ],
      "text/plain": [
       "  outcome    Freq\n",
       "1 Deceased    20 \n",
       "2 Recovered   11 \n",
       "3 Stabilized   8 \n",
       "4 NA         128 "
      ]
     },
     "metadata": {},
     "output_type": "display_data"
    }
   ],
   "source": [
    "tally(~case,bio_bac_sam,format = \"data.frame\")\n",
    "tally(~sample_type,bio_bac_sam,format = \"data.frame\")\n",
    "tally(~outcome,bio_bac_sam, format = \"data.frame\")"
   ]
  },
  {
   "cell_type": "markdown",
   "metadata": {},
   "source": [
    "making physeq object"
   ]
  },
  {
   "cell_type": "code",
   "execution_count": 18,
   "metadata": {},
   "outputs": [
    {
     "data": {
      "text/plain": [
       "phyloseq-class experiment-level object\n",
       "otu_table()   OTU Table:         [ 13846 taxa and 167 samples ]\n",
       "sample_data() Sample Data:       [ 167 samples by 71 sample variables ]\n",
       "tax_table()   Taxonomy Table:    [ 13846 taxa by 3 taxonomic ranks ]"
      ]
     },
     "metadata": {},
     "output_type": "display_data"
    }
   ],
   "source": [
    "bio_bac_pseq <- phyloseq(bio_bac_counts_phy, bio_bac_tax_phy, sample_data(bio_bac_sam))\n",
    "mol_bac_pseq<-phyloseq(mol_bac_counts_phy,mol_bac_tax_phy, sample_data(bio_bac_sam))\n",
    "bac_pseq<-merge_phyloseq(bio_bac_pseq,mol_bac_pseq)\n",
    "bac_pseq"
   ]
  },
  {
   "cell_type": "raw",
   "metadata": {},
   "source": [
    "Filter out the top level depth 0 GO Terms \"molecular function\" and \"biological process\""
   ]
  },
  {
   "cell_type": "code",
   "execution_count": 19,
   "metadata": {},
   "outputs": [
    {
     "data": {
      "text/plain": [
       "phyloseq-class experiment-level object\n",
       "otu_table()   OTU Table:         [ 13844 taxa and 167 samples ]\n",
       "sample_data() Sample Data:       [ 167 samples by 71 sample variables ]\n",
       "tax_table()   Taxonomy Table:    [ 13844 taxa by 3 taxonomic ranks ]"
      ]
     },
     "metadata": {},
     "output_type": "display_data"
    }
   ],
   "source": [
    "filtme<-c(\"GO:0003674\")\n",
    "bac_pseq <- prune_taxa(taxa=taxa_names(bac_pseq)!=filtme, bac_pseq)\n",
    "filtme<-c(\"GO:0008150\")\n",
    "bac_pseq <- prune_taxa(taxa=taxa_names(bac_pseq)!=filtme, bac_pseq)\n",
    "bac_pseq"
   ]
  },
  {
   "cell_type": "markdown",
   "metadata": {},
   "source": [
    "filter out the negative control and unknown samples"
   ]
  },
  {
   "cell_type": "code",
   "execution_count": 20,
   "metadata": {},
   "outputs": [
    {
     "data": {
      "text/plain": [
       "phyloseq-class experiment-level object\n",
       "otu_table()   OTU Table:         [ 13844 taxa and 162 samples ]\n",
       "sample_data() Sample Data:       [ 162 samples by 71 sample variables ]\n",
       "tax_table()   Taxonomy Table:    [ 13844 taxa by 3 taxonomic ranks ]"
      ]
     },
     "metadata": {},
     "output_type": "display_data"
    },
    {
     "data": {
      "text/plain": [
       "phyloseq-class experiment-level object\n",
       "otu_table()   OTU Table:         [ 13844 taxa and 141 samples ]\n",
       "sample_data() Sample Data:       [ 141 samples by 71 sample variables ]\n",
       "tax_table()   Taxonomy Table:    [ 13844 taxa by 3 taxonomic ranks ]"
      ]
     },
     "metadata": {},
     "output_type": "display_data"
    }
   ],
   "source": [
    "bac_pseq_no_neg<-subset_samples(bac_pseq, sample_type!=\"neg_control\")\n",
    "bac_pseq_no_neg# [ 13846 taxa and 162 samples ]:\n",
    "bac_pseq_no_neg<-subset_samples(bac_pseq_no_neg, sample_type!=\"Unknown\")\n",
    "bac_pseq_no_neg# [ 13846 taxa and 141 samples ]:"
   ]
  },
  {
   "cell_type": "markdown",
   "metadata": {},
   "source": [
    "Lets change the names of the Go Terms so we can understand the description as well as the tag"
   ]
  },
  {
   "cell_type": "markdown",
   "metadata": {},
   "source": [
    "This code was causing mismatches with name and GO TAG and has since been resolved 19 NOV 2020"
   ]
  },
  {
   "cell_type": "code",
   "execution_count": 21,
   "metadata": {},
   "outputs": [],
   "source": [
    "#names<-paste(taxa_names(bac_pseq_no_neg),get_taxa_unique(bac_pseq_no_neg,taxonomic.rank = \"name\" ),sep = \"-\")\n",
    "#taxa_names(bac_pseq_no_neg)<-names"
   ]
  },
  {
   "cell_type": "markdown",
   "metadata": {},
   "source": [
    "NEW and improved code"
   ]
  },
  {
   "cell_type": "code",
   "execution_count": 22,
   "metadata": {},
   "outputs": [
    {
     "data": {
      "text/html": [
       "13844"
      ],
      "text/latex": [
       "13844"
      ],
      "text/markdown": [
       "13844"
      ],
      "text/plain": [
       "[1] 13844"
      ]
     },
     "metadata": {},
     "output_type": "display_data"
    }
   ],
   "source": [
    "tax<-data.frame(tax_table(bac_pseq_no_neg))\n",
    "names<-paste(rownames(tax),tax$name,sep=\"-\")\n",
    "length(names)\n",
    "taxa_names(bac_pseq_no_neg)<-names"
   ]
  },
  {
   "cell_type": "markdown",
   "metadata": {},
   "source": [
    "# DESeq2 VST transformation"
   ]
  },
  {
   "cell_type": "code",
   "execution_count": 23,
   "metadata": {},
   "outputs": [
    {
     "name": "stderr",
     "output_type": "stream",
     "text": [
      "converting counts to integer mode\n",
      "\n"
     ]
    }
   ],
   "source": [
    "sample_info_tab<-sample_data(bac_pseq_no_neg)\n",
    "sample_info_tab_phy <- sample_data(sample_info_tab)\n",
    "deseq_counts<-phyloseq_to_deseq2(physeq = bac_pseq_no_neg,design = ~ 1) \n",
    "deseq_counts_vst <- estimateSizeFactors(deseq_counts, type = \"poscounts\")\n",
    "vst_trans_count_tab <- assay(deseq_counts_vst)"
   ]
  },
  {
   "cell_type": "markdown",
   "metadata": {},
   "source": [
    "#YAAAAAAAAAAAAAAAASSSSSSSSSSSSS THANK YOU LIMMMA"
   ]
  },
  {
   "cell_type": "markdown",
   "metadata": {},
   "source": [
    "Dont worry about the limma batch effect correction step, I think I found a better way by including it in the multivariate model "
   ]
  },
  {
   "cell_type": "code",
   "execution_count": 24,
   "metadata": {},
   "outputs": [],
   "source": [
    "#vst_trans_count_tab2 <- limma::removeBatchEffect(vst_trans_count_tab, sample_info_tab$publication)"
   ]
  },
  {
   "cell_type": "markdown",
   "metadata": {},
   "source": [
    "IT FIXED THE BATCH EFFECT!"
   ]
  },
  {
   "cell_type": "markdown",
   "metadata": {},
   "source": [
    "### convert the normalized counts to a phyloseq object and transform into relative abundances"
   ]
  },
  {
   "cell_type": "code",
   "execution_count": 25,
   "metadata": {},
   "outputs": [],
   "source": [
    "vst_count_phy <- otu_table(vst_trans_count_tab, taxa_are_rows=T)\n",
    "vst_tax_phy <- tax_table(bac_pseq_no_neg)\n",
    "vst_physeq <- phyloseq(vst_count_phy, vst_tax_phy,sample_data(bac_pseq_no_neg))\n",
    "vst_physeq_comp<-microbiome::transform(x = vst_physeq,transform = \"compositional\")"
   ]
  },
  {
   "cell_type": "markdown",
   "metadata": {},
   "source": [
    "# MaAsLIN2"
   ]
  },
  {
   "cell_type": "code",
   "execution_count": 26,
   "metadata": {},
   "outputs": [
    {
     "ename": "ERROR",
     "evalue": "Error in setwd(\"/home/jovyan/work/Jochum_3/jupyter_lab/GO_term_analysis/R_Maaslin2/ag1\"): cannot change working directory\n",
     "output_type": "error",
     "traceback": [
      "Error in setwd(\"/home/jovyan/work/Jochum_3/jupyter_lab/GO_term_analysis/R_Maaslin2/ag1\"): cannot change working directory\nTraceback:\n",
      "1. setwd(\"/home/jovyan/work/Jochum_3/jupyter_lab/GO_term_analysis/R_Maaslin2/ag1\")"
     ]
    }
   ],
   "source": [
    "#dir.create(\"R_Maaslin2\") # Create a new directory\n",
    "setwd(\"/home/jovyan/work/Jochum_3/jupyter_lab/GO_term_analysis/R_Maaslin2/ag1\") # Change the current working directory \n",
    "getwd() #check if directory has been successfully changed"
   ]
  },
  {
   "cell_type": "code",
   "execution_count": null,
   "metadata": {},
   "outputs": [],
   "source": [
    "df_input_data2<-data.frame(t(otu_table(vst_physeq_comp)))\n",
    "df_input_metadata2<-data.frame(sample_data(vst_physeq_comp))"
   ]
  },
  {
   "cell_type": "code",
   "execution_count": null,
   "metadata": {},
   "outputs": [],
   "source": [
    "#class(df_input_metadata2$case)\n",
    "#df_input_metadata2$age<-as.factor(df_input_metadata2$age)\n",
    "#df_input_metadata2$temp_degC<-as.factor(df_input_metadata2$temp_degC)\n",
    "#df_input_metadata2$days.after.onset<-as.factor(df_input_metadata2$days.after.onset)\n",
    "#df_input_metadata2$case<-factor(x = df_input_metadata2$case, levels = c(\"COVID19\",\"Community_acquired_pneumonia\",\"Control_Sick\",\"Control_Healthy\"))\n",
    "#df_input_metadata2$outcome<-factor(x = df_input_metadata2$outcome, levels = c(\"Deceased\",\"Stabilized\",\"Recovered\"))\n",
    "#class(df_input_metadata2$case)\n",
    "#df_input_metadata2$case"
   ]
  },
  {
   "cell_type": "markdown",
   "metadata": {},
   "source": [
    "## ok so here are the parameters you want to manipulate:\n",
    "min abundance= the min rel abund hits (1%) #filters out XXXX GO_terms \\\n",
    "min prevalence = Min samples required with min abundance for a feature not to be filtered (0.1=10%=14.1000 samples) \\\n",
    "max_significance = the maximinum p adjusted value to be significant \\\n",
    "\n",
    "This will filter out 13770 GO TERMS \\\n",
    "\n",
    "#_normalization = CLR transformation_ \\\n",
    "##### CORRECTION dont normalize here, just use the VST transformed counts\n",
    "correction = the mutliple test correction method to be done (BH=Benjamini-Hochberg)"
   ]
  },
  {
   "cell_type": "code",
   "execution_count": null,
   "metadata": {},
   "outputs": [],
   "source": [
    "case<-Maaslin2(\n",
    "  input_data = df_input_data2,\n",
    "  input_metadata = df_input_metadata2,\n",
    "  output=\"./case\",\n",
    "  min_abundance = 0.01,\n",
    "  min_prevalence = 0.01,\n",
    "  normalization = \"NONE\",\n",
    "  transform = \"NONE\",\n",
    "  analysis_method = \"LM\",\n",
    "  max_significance = 0.25,\n",
    "  #random_effects = c(\"sample_name\",\"publication\",\"collection_location\",\"sequence_type\"),\n",
    "  random_effects = c(\"sample_name\",\"publication\"),\n",
    "  fixed_effects = c(\"case\"),\n",
    "  correction=\"BH\",\n",
    "  standardize = TRUE,\n",
    "  cores = 48,\n",
    "  plot_heatmap = TRUE,\n",
    "  plot_scatter = TRUE,\n",
    "  heatmap_first_n = 100,\n",
    "  reference=c(\"case,COVID19\"))"
   ]
  },
  {
   "cell_type": "code",
   "execution_count": null,
   "metadata": {},
   "outputs": [],
   "source": [
    "outcome<-Maaslin2(\n",
    "  input_data = df_input_data2,\n",
    "  input_metadata = df_input_metadata2,\n",
    "  output=\"./outcome\",\n",
    "  min_abundance = 0.001,\n",
    "  min_prevalence = 0.001,\n",
    "  normalization = \"NONE\",\n",
    "  transform = \"NONE\",\n",
    "  analysis_method = \"LM\",\n",
    "  max_significance = 0.25,\n",
    "  #random_effects = c(\"sample_name\",\"publication\",\"collection_location\",\"sequence_type\"),\n",
    "  random_effects = c(\"sample_name\",\"publication\"),\n",
    "  fixed_effects = c(\"outcome\"),\n",
    "  correction=\"BH\",\n",
    "  standardize = TRUE,\n",
    "  cores = 48,\n",
    "  plot_heatmap = TRUE,\n",
    "  plot_scatter = TRUE,\n",
    "  heatmap_first_n = 100,\n",
    "  reference=c(\"outcome,Deceased\"))"
   ]
  },
  {
   "cell_type": "code",
   "execution_count": null,
   "metadata": {},
   "outputs": [],
   "source": [
    "#I need to figure out how to change how to pivot wider the case colum for an age analysis\n",
    "df_input_metadata2$age<-as.numeric(df_input_metadata2$age)\n",
    "\n",
    "age<-Maaslin2(\n",
    "  input_data = df_input_data2,\n",
    "  input_metadata = df_input_metadata2,\n",
    "  output=\"./age\",\n",
    "  min_abundance = 0.001,\n",
    "  min_prevalence = 0.001,\n",
    "  normalization = \"NONE\",\n",
    "  transform = \"NONE\",\n",
    "  analysis_method = \"LM\",\n",
    "  max_significance = 0.25,\n",
    "  #random_effects = c(\"sample_name\",\"publication\",\"collection_location\",\"sequence_type\"),\n",
    "  random_effects = c(\"sample_name\",\"publication\"),\n",
    "  fixed_effects = c(\"case\",\"age\"),\n",
    "  correction=\"BH\",\n",
    "  standardize = TRUE,\n",
    "  cores = 48,\n",
    "  plot_heatmap = TRUE,\n",
    "  plot_scatter = TRUE,\n",
    "  heatmap_first_n = 100,\n",
    "  reference=c(\"case,COVID19\"))"
   ]
  },
  {
   "cell_type": "markdown",
   "metadata": {},
   "source": [
    "## MaAsLin2 outcome analyisis (pruned_samples)"
   ]
  },
  {
   "cell_type": "code",
   "execution_count": null,
   "metadata": {},
   "outputs": [],
   "source": [
    "bac_pseq_outcome<-subset_samples(physeq = bac_pseq_no_neg,outcome!=\"NA\")\n",
    "#bac_pseq_outcome<-subset_samples(physeq = bac_pseq_no_neg, case==\"COVID19\")\n",
    "bac_pseq_outcome\n",
    "sample_info_tab<-sample_data(bac_pseq_outcome)\n",
    "sample_info_tab_phy <- sample_data(sample_info_tab)\n",
    "deseq_counts<-phyloseq_to_deseq2(physeq = bac_pseq_outcome,design = ~ 1) \n",
    "deseq_counts_vst <- estimateSizeFactors(deseq_counts, type = \"poscounts\")\n",
    "vst_trans_count_tab <- assay(deseq_counts_vst)\n",
    "vst_count_phy <- otu_table(vst_trans_count_tab, taxa_are_rows=T)\n",
    "vst_tax_phy <- tax_table(bac_pseq_no_neg)\n",
    "vst_physeq <- phyloseq(vst_count_phy, vst_tax_phy,sample_data(bac_pseq_outcome))\n",
    "vst_physeq_comp<-microbiome::transform(x = vst_physeq,transform = \"compositional\")\n",
    "df_input_data2<-data.frame(t(otu_table(vst_physeq_comp)))\n",
    "df_input_metadata2<-data.frame(sample_data(vst_physeq_comp))"
   ]
  },
  {
   "cell_type": "markdown",
   "metadata": {},
   "source": [
    "#### ok thats interesting it looks like it just through everything else into NA regardless of case... I guess lets trying it again with only covid cases and also look at age"
   ]
  },
  {
   "cell_type": "code",
   "execution_count": null,
   "metadata": {},
   "outputs": [],
   "source": [
    "df_input_metadata2$age<-as.numeric(df_input_metadata2$age)\n",
    "subset_outcome<-Maaslin2(\n",
    "  input_data = df_input_data2,\n",
    "  input_metadata = df_input_metadata2,\n",
    "  output=\"./subset_outcome\",\n",
    "  min_abundance = 0.001,\n",
    "  min_prevalence = 0.001,\n",
    "  normalization = \"NONE\",\n",
    "  transform = \"NONE\",\n",
    "  analysis_method = \"LM\",\n",
    "  max_significance = 0.25,\n",
    "  random_effects = c(\"sample_name\",\"publication\"),\n",
    "  fixed_effects = c(\"age\",\"outcome\"),\n",
    "  correction=\"BH\",\n",
    "  standardize = TRUE,\n",
    "  cores = 48,\n",
    "  plot_heatmap = TRUE,\n",
    "  plot_scatter = TRUE,\n",
    "  heatmap_first_n = 100,\n",
    "  reference=\"outcome,Deceased\")"
   ]
  },
  {
   "cell_type": "markdown",
   "metadata": {},
   "source": [
    "## DMM modeling using the MaAslin2 derived terms"
   ]
  },
  {
   "cell_type": "markdown",
   "metadata": {},
   "source": [
    "Ok, lets import the MaAsLin2 derived significant terms"
   ]
  },
  {
   "cell_type": "code",
   "execution_count": null,
   "metadata": {},
   "outputs": [],
   "source": [
    "#sig<-read.table(\"Significant_Go_terms_for_Beth_Maaslin2.txt\",header = T,sep = \"\\t\")\n",
    "#head(sig)"
   ]
  },
  {
   "cell_type": "markdown",
   "metadata": {},
   "source": [
    "## DMM Preprocessing /filtering"
   ]
  },
  {
   "cell_type": "markdown",
   "metadata": {},
   "source": [
    "Ok lets filter out the GO_tag mataches from our phyloseq object"
   ]
  },
  {
   "cell_type": "code",
   "execution_count": null,
   "metadata": {},
   "outputs": [],
   "source": [
    "Terms<-sig$GO_Tag"
   ]
  },
  {
   "cell_type": "code",
   "execution_count": null,
   "metadata": {},
   "outputs": [],
   "source": [
    "bac_pseq_no_neg<-subset_samples(bac_pseq, sample_type!=\"neg_control\")\n",
    "bac_pseq_no_neg<-subset_samples(bac_pseq_no_neg, sample_type!=\"Unknown\")\n",
    "bac_pseq_no_neg# [ 13846 taxa and 141 samples ]:"
   ]
  },
  {
   "cell_type": "code",
   "execution_count": null,
   "metadata": {},
   "outputs": [],
   "source": [
    "bac_pseq_prune<-prune_taxa(x = bac_pseq_no_neg,taxa = Terms)\n",
    "bac_pseq_prune #[ 92 taxa and 141 samples ]\n",
    "#bac_pseq_prune <- prune_samples(sample_sums(bac_pseq_prune) > 1, bac_pseq_prune)\n",
    "#bac_pseq_prune#[ 92 taxa and 141 samples ]\n",
    "#bac_pseq_prune <- prune_taxa(taxa_sums(bac_pseq_prune) > 1, bac_pseq_prune)\n",
    "#bac_pseq_prune #[ 92 taxa and 141 samples ]"
   ]
  },
  {
   "cell_type": "markdown",
   "metadata": {},
   "source": [
    "ok lets rename our GO_terms again"
   ]
  },
  {
   "cell_type": "code",
   "execution_count": null,
   "metadata": {},
   "outputs": [],
   "source": [
    "tax<-data.frame(tax_table(bac_pseq_prune))\n",
    "names<-paste(rownames(tax),tax$name,sep=\"-\")\n",
    "length(names)\n",
    "taxa_names(bac_pseq_prune)<-names"
   ]
  },
  {
   "cell_type": "markdown",
   "metadata": {},
   "source": [
    "filter out the depth 0 mol fxn and bio proc, empty GO Terms, and empty samples"
   ]
  },
  {
   "cell_type": "markdown",
   "metadata": {},
   "source": [
    "#### DMM modeling time"
   ]
  },
  {
   "cell_type": "markdown",
   "metadata": {},
   "source": [
    "convert counts to a matrix"
   ]
  },
  {
   "cell_type": "code",
   "execution_count": null,
   "metadata": {},
   "outputs": [],
   "source": [
    "dat <- abundances(bac_pseq_prune)\n",
    "count <- as.matrix(t(dat))"
   ]
  },
  {
   "cell_type": "markdown",
   "metadata": {},
   "source": [
    "Fit the dmm model"
   ]
  },
  {
   "cell_type": "code",
   "execution_count": null,
   "metadata": {},
   "outputs": [],
   "source": [
    "fit <- mclapply(1:8, dmn, count = count, verbose=TRUE)"
   ]
  },
  {
   "cell_type": "markdown",
   "metadata": {},
   "source": [
    "Check the model fit with different number of mixture componenets using standard information criteria"
   ]
  },
  {
   "cell_type": "code",
   "execution_count": null,
   "metadata": {},
   "outputs": [],
   "source": [
    "lplc <- sapply(fit, laplace) # AIC / BIC / Laplace\n",
    "aic  <- sapply(fit, AIC) # AIC / BIC / Laplace\n",
    "bic  <- sapply(fit, BIC) # AIC / BIC / Laplace\n",
    "plot(lplc, type=\"b\", xlab=\"Number of Dirichlet Components\", ylab=\"Model Fit\")"
   ]
  },
  {
   "cell_type": "code",
   "execution_count": null,
   "metadata": {},
   "outputs": [],
   "source": [
    "#identify the number of clusters that best fits the model"
   ]
  },
  {
   "cell_type": "code",
   "execution_count": null,
   "metadata": {},
   "outputs": [],
   "source": [
    "best <- fit[[which.min(lplc)]]\n",
    "best <-fit[[3]]\n",
    "best"
   ]
  },
  {
   "cell_type": "code",
   "execution_count": null,
   "metadata": {},
   "outputs": [],
   "source": [
    "#save.image(file = \"go_terms_dmm.rdata\")"
   ]
  },
  {
   "cell_type": "markdown",
   "metadata": {},
   "source": [
    "#make a heatmap visualization of the cluster"
   ]
  },
  {
   "cell_type": "markdown",
   "metadata": {},
   "source": [
    "log 2 Heatmap"
   ]
  },
  {
   "cell_type": "code",
   "execution_count": null,
   "metadata": {},
   "outputs": [],
   "source": [
    "heatmapdmn(count, fit[[1]], best,ntaxa = 50,\n",
    "           transform =log2, lblwidth = 0.2 * nrow(count))"
   ]
  },
  {
   "cell_type": "markdown",
   "metadata": {},
   "source": [
    "square root version"
   ]
  },
  {
   "cell_type": "code",
   "execution_count": null,
   "metadata": {},
   "outputs": [],
   "source": [
    "heatmapdmn(count, fit[[1]], best,ntaxa = 50,\n",
    "           transform =sqrt, lblwidth = 0.2 * nrow(count))"
   ]
  },
  {
   "cell_type": "markdown",
   "metadata": {},
   "source": [
    "print out the theta values"
   ]
  },
  {
   "cell_type": "code",
   "execution_count": null,
   "metadata": {},
   "outputs": [],
   "source": [
    "mixturewt(best)"
   ]
  },
  {
   "cell_type": "markdown",
   "metadata": {},
   "source": [
    "save the datasheet that show which GO terms contributed to each dmm group"
   ]
  },
  {
   "cell_type": "code",
   "execution_count": null,
   "metadata": {},
   "outputs": [],
   "source": [
    "write.table(fitted(best),\"GO_TERMS_DMM_contributions.tsv\", sep=\"\\t\")"
   ]
  },
  {
   "cell_type": "markdown",
   "metadata": {},
   "source": [
    "save a datasheet that identifies which sample belongs to which dmm group"
   ]
  },
  {
   "cell_type": "code",
   "execution_count": null,
   "metadata": {},
   "outputs": [],
   "source": [
    "ass <- apply(mixture(best), 1, which.max)\n",
    "write.table(ass,\"GO_TERMS_DMM_groups.tsv\",sep=\"\")"
   ]
  },
  {
   "cell_type": "code",
   "execution_count": null,
   "metadata": {},
   "outputs": [],
   "source": [
    "#add the dmm group to the metadata\n",
    "sample_data(bac_pseq_prune)$dmn<-ass\n",
    "bac_pseq_prune_comp<-microbiome::transform(bac_pseq_prune,\"compositional\")\n",
    "#melt the phyloseq object into tidy form\n",
    "tmp<-psmelt(bac_pseq_prune_comp)\n",
    "tmp<-as_tibble(tmp)"
   ]
  },
  {
   "cell_type": "code",
   "execution_count": null,
   "metadata": {},
   "outputs": [],
   "source": [
    "gghistogram(tmp,x = \"Abundance\",y = \"..count..\")+scale_x_log10() #move each dmm group into a colum of its own"
   ]
  },
  {
   "cell_type": "code",
   "execution_count": null,
   "metadata": {},
   "outputs": [],
   "source": [
    "#tmp$log2Abundance<-log2(tmp$Abundance)"
   ]
  },
  {
   "cell_type": "code",
   "execution_count": null,
   "metadata": {},
   "outputs": [],
   "source": [
    "#subset the dataset to only include the case, Go_term, count, and dmm group.\n",
    "#obtain the avergage count for each Go term\n",
    "#order the go terms from hight to lowest count"
   ]
  },
  {
   "cell_type": "markdown",
   "metadata": {},
   "source": [
    "I added these filtering commands to pull out the counts with less than 1% relabund or greater tahn 22% (ie:molecular function)"
   ]
  },
  {
   "cell_type": "code",
   "execution_count": null,
   "metadata": {},
   "outputs": [],
   "source": [
    "d2<-tmp %>%\n",
    "  select(case,OTU,Abundance, dmn)%>%\n",
    "  group_by(OTU,case, dmn) %>%\n",
    "  summarise(avg = mean(Abundance)) %>%\n",
    "  arrange(desc(avg))"
   ]
  },
  {
   "cell_type": "code",
   "execution_count": null,
   "metadata": {},
   "outputs": [],
   "source": [
    "#d2$avg<-sqrt(d2$avg)"
   ]
  },
  {
   "cell_type": "code",
   "execution_count": null,
   "metadata": {},
   "outputs": [],
   "source": [
    "d3<-tidyr::spread(d2,dmn, avg)"
   ]
  },
  {
   "cell_type": "code",
   "execution_count": null,
   "metadata": {},
   "outputs": [],
   "source": [
    "#get the total count of the go terms and oder from greates to lowest"
   ]
  },
  {
   "cell_type": "code",
   "execution_count": null,
   "metadata": {},
   "outputs": [],
   "source": [
    "d3<-tidyr::spread(d2,dmn,avg)\n",
    "d3$tot<-rowSums(d3[3:5], na.rm = T)\n",
    "d3<-d3%>%arrange(desc(tot))\n",
    "d3$tot<-NULL\n",
    "head(d3)"
   ]
  },
  {
   "cell_type": "code",
   "execution_count": null,
   "metadata": {},
   "outputs": [],
   "source": [
    "d3<-d3%>%gather(data = d3,avg,3:5)\n",
    "colnames(d3)<-c(\"name\",\"case\", \"dmn\",\"avg\")"
   ]
  },
  {
   "cell_type": "markdown",
   "metadata": {},
   "source": [
    "make the balloon plot"
   ]
  },
  {
   "cell_type": "code",
   "execution_count": null,
   "metadata": {},
   "outputs": [],
   "source": [
    "d4<-d3%>%filter(avg>0.01)%>%arrange(name,case,dmn)\n",
    "d4<-d4[1:108,]"
   ]
  },
  {
   "cell_type": "code",
   "execution_count": null,
   "metadata": {},
   "outputs": [],
   "source": [
    "my_pal<-viridis(n = 256, alpha = 1, begin = 0, end = 1, direction = 1)"
   ]
  },
  {
   "cell_type": "code",
   "execution_count": null,
   "metadata": {},
   "outputs": [],
   "source": [
    "options(repr.plot.width=14, repr.plot.height=10)\n",
    "a<-ggplot(data = d4,mapping = aes(x = factor(dmn),y =reorder(name,avg),size=avg,color=avg))+\n",
    "geom_point()+\n",
    "#theme(text=element_text(size=20))+\n",
    "scale_colour_gradientn(colours = my_pal,trans=\"log2\")+\n",
    "facet_grid(facets = ~ case)+\n",
    "theme_minimal(base_size = 16)\n",
    "\n",
    "a\n"
   ]
  },
  {
   "cell_type": "code",
   "execution_count": null,
   "metadata": {},
   "outputs": [],
   "source": [
    "#    ggballoonplot(d4, y =\"name\",x = \"dmn\", size = \"avg\", facet.by = \"case\",fill = \"avg\",ggtheme = theme_minimal())+\n",
    "#      guides(size = FALSE)+\n",
    "#    font(\"y.text\", size = 12)+scale_fill_viridis_c()"
   ]
  },
  {
   "cell_type": "code",
   "execution_count": null,
   "metadata": {},
   "outputs": [],
   "source": [
    "#save.image(\"GO_TERM_Maaslin2_19_NOV_2020.rda\")\n",
    "#load.Rdata(\"GO_TERM_Maaslin2_19_NOV_2020.rda\")"
   ]
  },
  {
   "cell_type": "markdown",
   "metadata": {},
   "source": [
    "## DATA VISUALIZATION TIME and outcome comparison time"
   ]
  },
  {
   "cell_type": "code",
   "execution_count": null,
   "metadata": {},
   "outputs": [],
   "source": [
    "sam<-as_tibble(sample_data(bac_pseq_no_neg))\n",
    "tally(x = case~outcome,sam)\n",
    "chisq.test(~outcome,sam)"
   ]
  },
  {
   "cell_type": "markdown",
   "metadata": {},
   "source": [
    "ok lets do a binomial test to see if we can use this"
   ]
  },
  {
   "cell_type": "code",
   "execution_count": null,
   "metadata": {},
   "outputs": [],
   "source": [
    "rec <-binom.test(~ outcome==\"Recovered\", data = sam)\n",
    "dec <-binom.test(~ outcome==\"Deceased\", data = sam)\n",
    "sta <-binom.test(~ outcome==\"Stabilized\", data = sam)\n",
    "out_tbl<-tally(x = case~outcome,sam)\n",
    "result2 <-chisq.test(table(out_tbl))\n",
    "rec\n",
    "dec\n",
    "sta\n",
    "out_tbl\n",
    "result2\n",
    "chisq(result2)"
   ]
  },
  {
   "cell_type": "markdown",
   "metadata": {},
   "source": [
    "YAAAASSSSSS CASE ~OUTCOME Chi-squared TEST P=0.0517\n",
    "LESGOOOO"
   ]
  },
  {
   "cell_type": "markdown",
   "metadata": {},
   "source": [
    "That made the results even less significant for some reason!  ok lets try with "
   ]
  }
 ],
 "metadata": {
  "kernelspec": {
   "display_name": "R",
   "language": "R",
   "name": "ir"
  },
  "language_info": {
   "codemirror_mode": "r",
   "file_extension": ".r",
   "mimetype": "text/x-r-source",
   "name": "R",
   "pygments_lexer": "r",
   "version": "4.0.3"
  }
 },
 "nbformat": 4,
 "nbformat_minor": 4
}
