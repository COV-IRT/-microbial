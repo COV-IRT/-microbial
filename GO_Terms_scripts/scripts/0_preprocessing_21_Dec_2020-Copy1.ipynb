{
 "cells": [
  {
   "cell_type": "markdown",
   "metadata": {},
   "source": [
    "###  COVIRT19 microbial subgroup seqscreen analysis \n",
    "#### Date : 21 DEC 2020 \n",
    "#### Maintained by :\n",
    "    Jochum, Michael D. \n",
    "    Baylor College of Medicine \n",
    "    michael.jochum@bcm.edu"
   ]
  },
  {
   "cell_type": "markdown",
   "metadata": {},
   "source": [
    "#### The purpose of this code is to:\n",
    "- take the raw seqscreen GO Term counts and convert them into a working phyloseq object\n",
    "- conduct some preprocessing on the phyloseq object that:\n",
    "- filters out batch effect samples and GO terms with little to no abundance"
   ]
  },
  {
   "cell_type": "code",
   "execution_count": 53,
   "metadata": {},
   "outputs": [],
   "source": [
    "library(tidyverse)\n",
    "library(phyloseq)\n",
    "setwd(\"../\")"
   ]
  },
  {
   "cell_type": "markdown",
   "metadata": {},
   "source": [
    "load the seqscreen count table and fix come naming issues"
   ]
  },
  {
   "cell_type": "code",
   "execution_count": 37,
   "metadata": {},
   "outputs": [],
   "source": [
    "raw<-as_tibble(read.table(\"./datasets/Combined_BALF_GO_Terms_parent_propagated.tsv\", sep = \"\\t\", row.names = NULL, header = T, quote = \"\", comment.char = \"\"))\n",
    "colnames(raw)<-gsub(\"NA_tax\",\"unclass\", colnames(raw))%>%str_replace_all(\"NC1_SRR7796663\", \"NC1.SRR7796663\")"
   ]
  },
  {
   "cell_type": "code",
   "execution_count": 38,
   "metadata": {},
   "outputs": [],
   "source": [
    "df<-raw %>%\n",
    "  select(GO_term,namespace,depth,name,ends_with(\"_counts\"))%>%\n",
    "  pivot_longer(cols = -c(GO_term,namespace,depth,name),\n",
    "               names_to =  c(\"sample\",\"type\",\"abund\"),\n",
    "               names_pattern = \"(.*)_(.*)_(.*)\")%>%\n",
    "  select(-abund)%>%\n",
    "  filter(value>1)%>%\n",
    "  pivot_wider(names_from = sample, values_from=value, values_fill=0)"
   ]
  },
  {
   "cell_type": "code",
   "execution_count": 39,
   "metadata": {},
   "outputs": [],
   "source": [
    "df$depth<-as.character(df$depth)"
   ]
  },
  {
   "cell_type": "code",
   "execution_count": 40,
   "metadata": {},
   "outputs": [
    {
     "name": "stderr",
     "output_type": "stream",
     "text": [
      "`summarise()` regrouping output by 'GO_term', 'namespace', 'depth' (override with `.groups` argument)\n",
      "\n"
     ]
    }
   ],
   "source": [
    "term<-df%>%filter(type!=\"NA\")%>%filter(type%in%c(\"bac\",\"arc\",\"vir\"))%>%group_by(GO_term,namespace,depth,name)%>%\n",
    "  summarise(across(.cols = where(is.numeric), sum))"
   ]
  },
  {
   "cell_type": "code",
   "execution_count": 41,
   "metadata": {},
   "outputs": [],
   "source": [
    "term_tax<-term%>%select(GO_term,namespace,depth,name)\n",
    "term_tax<-data.frame(term_tax, row.names=1)\n",
    "term_counts<-data.frame(term[5:172], row.names = term$GO_term)"
   ]
  },
  {
   "cell_type": "code",
   "execution_count": 42,
   "metadata": {},
   "outputs": [],
   "source": [
    "term_counts_phy <- otu_table(term_counts, taxa_are_rows=TRUE)\n",
    "term_tax_phy <- tax_table(as.matrix(term_tax), errorIfNULL=TRUE)"
   ]
  },
  {
   "cell_type": "code",
   "execution_count": 43,
   "metadata": {},
   "outputs": [],
   "source": [
    "term_sam<-as.data.frame(read.table(\"../Combined_BALF_GO_Terms_metadata2.txt\",header = T, sep = \"\\t\",row.names = 1))\n",
    "rownames(term_sam)<-rownames(term_sam)%>%str_replace_all(\"NC1_SRR7796663\", \"NC1.SRR7796663\")\n",
    "term_sam$accession<-rownames(term_sam)"
   ]
  },
  {
   "cell_type": "code",
   "execution_count": 44,
   "metadata": {},
   "outputs": [],
   "source": [
    "term_sam$outcome<-term_sam$outcome%>%\n",
    "  str_replace_all(\"recovered\", \"Recovered\")%>%\n",
    "  str_replace_all(\"deceased\",\"Deceased\")%>%\n",
    "  str_replace_all('stabilized',\"Stabilized\")\n",
    "term_sam$sex<-term_sam$sex%>%\n",
    "  str_replace_all(\"M\", \"male\")%>%\n",
    "  str_replace_all(\"F\", \"female\")%>%\n",
    "  str_replace_all(\"na\", \"<NA>\") # this is mixing the string \"<NA>\" with actual NAs, probably not related to our problem, but def not a good idea in general"
   ]
  },
  {
   "cell_type": "code",
   "execution_count": 45,
   "metadata": {},
   "outputs": [
    {
     "data": {
      "text/plain": [
       "phyloseq-class experiment-level object\n",
       "otu_table()   OTU Table:         [ 14581 taxa and 167 samples ]\n",
       "sample_data() Sample Data:       [ 167 samples by 71 sample variables ]\n",
       "tax_table()   Taxonomy Table:    [ 14581 taxa by 3 taxonomic ranks ]"
      ]
     },
     "metadata": {},
     "output_type": "display_data"
    }
   ],
   "source": [
    "term_pseq <- phyloseq(term_counts_phy, term_tax_phy, sample_data(term_sam))\n",
    "term_pseq# [ 14581 taxa and 167 samples ] [ 27077 taxa and 167 samples ]"
   ]
  },
  {
   "cell_type": "code",
   "execution_count": 46,
   "metadata": {},
   "outputs": [
    {
     "data": {
      "text/plain": [
       "phyloseq-class experiment-level object\n",
       "otu_table()   OTU Table:         [ 14579 taxa and 167 samples ]\n",
       "sample_data() Sample Data:       [ 167 samples by 71 sample variables ]\n",
       "tax_table()   Taxonomy Table:    [ 14579 taxa by 3 taxonomic ranks ]"
      ]
     },
     "metadata": {},
     "output_type": "display_data"
    }
   ],
   "source": [
    "filtme<-c(\"GO:0003674\")\n",
    "term_pseq <- prune_taxa(taxa=taxa_names(term_pseq)!=filtme, term_pseq)\n",
    "filtme<-c(\"GO:0008150\")\n",
    "term_pseq <- prune_taxa(taxa=taxa_names(term_pseq)!=filtme, term_pseq)\n",
    "term_pseq #[ 14579 taxa and 167 samples ]"
   ]
  },
  {
   "cell_type": "code",
   "execution_count": 47,
   "metadata": {},
   "outputs": [
    {
     "data": {
      "text/plain": [
       "phyloseq-class experiment-level object\n",
       "otu_table()   OTU Table:         [ 14579 taxa and 162 samples ]\n",
       "sample_data() Sample Data:       [ 162 samples by 71 sample variables ]\n",
       "tax_table()   Taxonomy Table:    [ 14579 taxa by 3 taxonomic ranks ]"
      ]
     },
     "metadata": {},
     "output_type": "display_data"
    },
    {
     "data": {
      "text/plain": [
       "phyloseq-class experiment-level object\n",
       "otu_table()   OTU Table:         [ 14579 taxa and 141 samples ]\n",
       "sample_data() Sample Data:       [ 141 samples by 71 sample variables ]\n",
       "tax_table()   Taxonomy Table:    [ 14579 taxa by 3 taxonomic ranks ]"
      ]
     },
     "metadata": {},
     "output_type": "display_data"
    },
    {
     "data": {
      "text/plain": [
       "phyloseq-class experiment-level object\n",
       "otu_table()   OTU Table:         [ 14579 taxa and 105 samples ]\n",
       "sample_data() Sample Data:       [ 105 samples by 71 sample variables ]\n",
       "tax_table()   Taxonomy Table:    [ 14579 taxa by 3 taxonomic ranks ]"
      ]
     },
     "metadata": {},
     "output_type": "display_data"
    },
    {
     "data": {
      "text/plain": [
       "phyloseq-class experiment-level object\n",
       "otu_table()   OTU Table:         [ 14579 taxa and 102 samples ]\n",
       "sample_data() Sample Data:       [ 102 samples by 71 sample variables ]\n",
       "tax_table()   Taxonomy Table:    [ 14579 taxa by 3 taxonomic ranks ]"
      ]
     },
     "metadata": {},
     "output_type": "display_data"
    },
    {
     "data": {
      "text/plain": [
       "phyloseq-class experiment-level object\n",
       "otu_table()   OTU Table:         [ 14579 taxa and 86 samples ]\n",
       "sample_data() Sample Data:       [ 86 samples by 71 sample variables ]\n",
       "tax_table()   Taxonomy Table:    [ 14579 taxa by 3 taxonomic ranks ]"
      ]
     },
     "metadata": {},
     "output_type": "display_data"
    },
    {
     "data": {
      "text/plain": [
       "phyloseq-class experiment-level object\n",
       "otu_table()   OTU Table:         [ 13534 taxa and 86 samples ]\n",
       "sample_data() Sample Data:       [ 86 samples by 71 sample variables ]\n",
       "tax_table()   Taxonomy Table:    [ 13534 taxa by 3 taxonomic ranks ]"
      ]
     },
     "metadata": {},
     "output_type": "display_data"
    },
    {
     "data": {
      "text/plain": [
       "phyloseq-class experiment-level object\n",
       "otu_table()   OTU Table:         [ 13534 taxa and 86 samples ]\n",
       "sample_data() Sample Data:       [ 86 samples by 71 sample variables ]\n",
       "tax_table()   Taxonomy Table:    [ 13534 taxa by 3 taxonomic ranks ]"
      ]
     },
     "metadata": {},
     "output_type": "display_data"
    }
   ],
   "source": [
    "term_pseq_no_neg<-term_pseq\n",
    "term_pseq_no_neg<-subset_samples(term_pseq, sample_type!=\"neg_control\")\n",
    "term_pseq_no_neg# [ 14579 taxa and 162 samples ]:\n",
    "term_pseq_no_neg<-subset_samples(term_pseq_no_neg, sample_type!=\"Unknown\")\n",
    "term_pseq_no_neg#  [ 14579 taxa and 141 samples ]:\n",
    "term_pseq_no_neg<-subset_samples(term_pseq_no_neg, case!=\"Control_Sick\")\n",
    "term_pseq_no_neg# [ 14597 taxa and 105 samples ]\n",
    "term_pseq_no_neg<-subset_samples(term_pseq_no_neg,publication!=\"Michalovich\")\n",
    "term_pseq_no_neg# [ 14597 taxa and 102 samples ]\n",
    "term_pseq_no_neg<-subset_samples(term_pseq_no_neg, bioproject!=\"PRJNA605907\")\n",
    "term_pseq_no_neg# [ 14597 taxa and 86 samples ]\n",
    "term_pseq_no_neg<-prune_taxa(taxa = taxa_sums(term_pseq_no_neg)>0,x = term_pseq_no_neg)\n",
    "term_pseq_no_neg# [ 13534 taxa and 86 samples ]\n",
    "term_pseq_no_neg<-prune_samples(samples = sample_sums(term_pseq_no_neg)>0,x = term_pseq_no_neg)\n",
    "term_pseq_no_neg# [ 13534 taxa and 86 samples ] # [ 25426 taxa and 86 samples ]\n",
    "term_pseq_no_neg_gonames<-term_pseq_no_neg"
   ]
  },
  {
   "cell_type": "code",
   "execution_count": 48,
   "metadata": {},
   "outputs": [],
   "source": [
    "tax<-data.frame(tax_table(term_pseq_no_neg))\n",
    "names<-paste(rownames(tax),tax$name,sep=\"-\")\n",
    "taxa_names(term_pseq_no_neg)<-names"
   ]
  },
  {
   "cell_type": "code",
   "execution_count": 49,
   "metadata": {},
   "outputs": [],
   "source": [
    "save.image(file = \"./images/0_preprocessing.RDA\")"
   ]
  },
  {
   "cell_type": "code",
   "execution_count": null,
   "metadata": {},
   "outputs": [],
   "source": []
  }
 ],
 "metadata": {
  "kernelspec": {
   "display_name": "R",
   "language": "R",
   "name": "ir"
  },
  "language_info": {
   "codemirror_mode": "r",
   "file_extension": ".r",
   "mimetype": "text/x-r-source",
   "name": "R",
   "pygments_lexer": "r",
   "version": "4.0.3"
  }
 },
 "nbformat": 4,
 "nbformat_minor": 4
}
