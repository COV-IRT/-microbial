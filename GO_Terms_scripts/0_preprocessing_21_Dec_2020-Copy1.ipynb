{
 "cells": [
  {
   "cell_type": "markdown",
   "metadata": {},
   "source": [
    "# Data Wrangling\n",
    "###  COVIRT19 microbial subgroup seqscreen analysis \n",
    "#### Date : 21 DEC 2020 \n",
    "#### Maintained by :\n",
    "    Jochum, Michael D. \n",
    "    Baylor College of Medicine \n",
    "    michael.jochum@bcm.edu"
   ]
  },
  {
   "cell_type": "markdown",
   "metadata": {},
   "source": [
    "#### The purpose of this code is to:\n",
    "- take the raw seqscreen GO Term counts and convert them into a working phyloseq object\n",
    "- conduct some preprocessing on the phyloseq object that:\n",
    "- filters out batch effect samples and GO terms with little to no abundance"
   ]
  },
  {
   "cell_type": "code",
   "execution_count": 1,
   "metadata": {},
   "outputs": [
    {
     "name": "stderr",
     "output_type": "stream",
     "text": [
      "── \u001b[1mAttaching packages\u001b[22m ─────────────────────────────────────── tidyverse 1.3.0 ──\n",
      "\n",
      "\u001b[32m✔\u001b[39m \u001b[34mggplot2\u001b[39m 3.3.2     \u001b[32m✔\u001b[39m \u001b[34mpurrr  \u001b[39m 0.3.4\n",
      "\u001b[32m✔\u001b[39m \u001b[34mtibble \u001b[39m 3.0.4     \u001b[32m✔\u001b[39m \u001b[34mdplyr  \u001b[39m 1.0.2\n",
      "\u001b[32m✔\u001b[39m \u001b[34mtidyr  \u001b[39m 1.1.2     \u001b[32m✔\u001b[39m \u001b[34mstringr\u001b[39m 1.4.0\n",
      "\u001b[32m✔\u001b[39m \u001b[34mreadr  \u001b[39m 1.4.0     \u001b[32m✔\u001b[39m \u001b[34mforcats\u001b[39m 0.5.0\n",
      "\n",
      "── \u001b[1mConflicts\u001b[22m ────────────────────────────────────────── tidyverse_conflicts() ──\n",
      "\u001b[31m✖\u001b[39m \u001b[34mdplyr\u001b[39m::\u001b[32mfilter()\u001b[39m masks \u001b[34mstats\u001b[39m::filter()\n",
      "\u001b[31m✖\u001b[39m \u001b[34mdplyr\u001b[39m::\u001b[32mlag()\u001b[39m    masks \u001b[34mstats\u001b[39m::lag()\n",
      "\n"
     ]
    }
   ],
   "source": [
    "library(tidyverse)\n",
    "library(phyloseq)\n",
    "setwd(\"../\")"
   ]
  },
  {
   "cell_type": "markdown",
   "metadata": {},
   "source": [
    "load the seqscreen count table and fix come naming issues"
   ]
  },
  {
   "cell_type": "code",
   "execution_count": 2,
   "metadata": {},
   "outputs": [
    {
     "name": "stderr",
     "output_type": "stream",
     "text": [
      "Warning message in file(file, \"rt\"):\n",
      "“cannot open file './datasets/Combined_BALF_GO_Terms_parent_propagated.tsv': No such file or directory”\n"
     ]
    },
    {
     "ename": "ERROR",
     "evalue": "Error in file(file, \"rt\"): cannot open the connection\n",
     "output_type": "error",
     "traceback": [
      "Error in file(file, \"rt\"): cannot open the connection\nTraceback:\n",
      "1. as_tibble(read.table(\"./datasets/Combined_BALF_GO_Terms_parent_propagated.tsv\", \n .     sep = \"\\t\", row.names = NULL, header = T, quote = \"\", comment.char = \"\"))",
      "2. read.table(\"./datasets/Combined_BALF_GO_Terms_parent_propagated.tsv\", \n .     sep = \"\\t\", row.names = NULL, header = T, quote = \"\", comment.char = \"\")",
      "3. file(file, \"rt\")"
     ]
    }
   ],
   "source": [
    "raw<-as_tibble(read.table(\"./datasets/Combined_BALF_GO_Terms_parent_propagated.tsv\", sep = \"\\t\", row.names = NULL, header = T, quote = \"\", comment.char = \"\"))\n",
    "colnames(raw)<-gsub(\"NA_tax\",\"unclass\", colnames(raw))%>%str_replace_all(\"NC1_SRR7796663\", \"NC1.SRR7796663\")"
   ]
  },
  {
   "cell_type": "code",
   "execution_count": null,
   "metadata": {},
   "outputs": [],
   "source": [
    "df<-raw %>%\n",
    "  select(GO_term,namespace,depth,name,ends_with(\"_counts\"))%>%\n",
    "  pivot_longer(cols = -c(GO_term,namespace,depth,name),\n",
    "               names_to =  c(\"sample\",\"type\",\"abund\"),\n",
    "               names_pattern = \"(.*)_(.*)_(.*)\")%>%\n",
    "  select(-abund)%>%\n",
    "  filter(value>1)%>%\n",
    "  pivot_wider(names_from = sample, values_from=value, values_fill=0)"
   ]
  },
  {
   "cell_type": "code",
   "execution_count": 3,
   "metadata": {},
   "outputs": [
    {
     "ename": "ERROR",
     "evalue": "Error in df$depth: object of type 'closure' is not subsettable\n",
     "output_type": "error",
     "traceback": [
      "Error in df$depth: object of type 'closure' is not subsettable\nTraceback:\n"
     ]
    }
   ],
   "source": [
    "df$depth<-as.character(df$depth)"
   ]
  },
  {
   "cell_type": "code",
   "execution_count": 4,
   "metadata": {},
   "outputs": [
    {
     "name": "stderr",
     "output_type": "stream",
     "text": [
      "Warning message:\n",
      "“`filter_()` is deprecated as of dplyr 0.7.0.\n",
      "Please use `filter()` instead.\n",
      "See vignette('programming') for more help\n",
      "\u001b[90mThis warning is displayed once every 8 hours.\u001b[39m\n",
      "\u001b[90mCall `lifecycle::last_warnings()` to see where this warning was generated.\u001b[39m”\n"
     ]
    },
    {
     "ename": "ERROR",
     "evalue": "Error in UseMethod(\"filter_\"): no applicable method for 'filter_' applied to an object of class \"function\"\n",
     "output_type": "error",
     "traceback": [
      "Error in UseMethod(\"filter_\"): no applicable method for 'filter_' applied to an object of class \"function\"\nTraceback:\n",
      "1. df %>% filter(type != \"NA\") %>% filter(type %in% c(\"bac\", \"arc\", \n .     \"vir\")) %>% group_by(GO_term, namespace, depth, name) %>% \n .     summarise(across(.cols = where(is.numeric), sum))",
      "2. summarise(., across(.cols = where(is.numeric), sum))",
      "3. group_by(., GO_term, namespace, depth, name)",
      "4. filter(., type %in% c(\"bac\", \"arc\", \"vir\"))",
      "5. filter(., type != \"NA\")",
      "6. filter.default(., type != \"NA\")",
      "7. filter_(.data, .dots = compat_as_lazy_dots(...))"
     ]
    }
   ],
   "source": [
    "term<-df%>%filter(type!=\"NA\")%>%filter(type%in%c(\"bac\",\"arc\",\"vir\"))%>%group_by(GO_term,namespace,depth,name)%>%\n",
    "  summarise(across(.cols = where(is.numeric), sum))"
   ]
  },
  {
   "cell_type": "code",
   "execution_count": 5,
   "metadata": {},
   "outputs": [
    {
     "ename": "ERROR",
     "evalue": "Error in select(., GO_term, namespace, depth, name): object 'term' not found\n",
     "output_type": "error",
     "traceback": [
      "Error in select(., GO_term, namespace, depth, name): object 'term' not found\nTraceback:\n",
      "1. term %>% select(GO_term, namespace, depth, name)",
      "2. select(., GO_term, namespace, depth, name)"
     ]
    }
   ],
   "source": [
    "term_tax<-term%>%select(GO_term,namespace,depth,name)\n",
    "term_tax<-data.frame(term_tax, row.names=1)\n",
    "term_counts<-data.frame(term[5:172], row.names = term$GO_term)"
   ]
  },
  {
   "cell_type": "code",
   "execution_count": 6,
   "metadata": {},
   "outputs": [
    {
     "ename": "ERROR",
     "evalue": "Error in h(simpleError(msg, call)): error in evaluating the argument 'object' in selecting a method for function 'otu_table': object 'term_counts' not found\n",
     "output_type": "error",
     "traceback": [
      "Error in h(simpleError(msg, call)): error in evaluating the argument 'object' in selecting a method for function 'otu_table': object 'term_counts' not found\nTraceback:\n",
      "1. otu_table(term_counts, taxa_are_rows = TRUE)",
      "2. .handleSimpleError(function (cond) \n . .Internal(C_tryCatchHelper(addr, 1L, cond)), \"object 'term_counts' not found\", \n .     base::quote(otu_table(term_counts, taxa_are_rows = TRUE)))",
      "3. h(simpleError(msg, call))"
     ]
    }
   ],
   "source": [
    "term_counts_phy <- otu_table(term_counts, taxa_are_rows=TRUE)\n",
    "term_tax_phy <- tax_table(as.matrix(term_tax), errorIfNULL=TRUE)"
   ]
  },
  {
   "cell_type": "code",
   "execution_count": 7,
   "metadata": {},
   "outputs": [
    {
     "name": "stderr",
     "output_type": "stream",
     "text": [
      "Warning message in file(file, \"rt\"):\n",
      "“cannot open file '../Combined_BALF_GO_Terms_metadata2.txt': No such file or directory”\n"
     ]
    },
    {
     "ename": "ERROR",
     "evalue": "Error in file(file, \"rt\"): cannot open the connection\n",
     "output_type": "error",
     "traceback": [
      "Error in file(file, \"rt\"): cannot open the connection\nTraceback:\n",
      "1. as.data.frame(read.table(\"../Combined_BALF_GO_Terms_metadata2.txt\", \n .     header = T, sep = \"\\t\", row.names = 1))",
      "2. read.table(\"../Combined_BALF_GO_Terms_metadata2.txt\", header = T, \n .     sep = \"\\t\", row.names = 1)",
      "3. file(file, \"rt\")"
     ]
    }
   ],
   "source": [
    "term_sam<-as.data.frame(read.table(\"../Combined_BALF_GO_Terms_metadata2.txt\",header = T, sep = \"\\t\",row.names = 1))\n",
    "rownames(term_sam)<-rownames(term_sam)%>%str_replace_all(\"NC1_SRR7796663\", \"NC1.SRR7796663\")\n",
    "term_sam$accession<-rownames(term_sam)"
   ]
  },
  {
   "cell_type": "code",
   "execution_count": 8,
   "metadata": {},
   "outputs": [
    {
     "ename": "ERROR",
     "evalue": "Error in stri_replace_all_regex(string, pattern, fix_replacement(replacement), : object 'term_sam' not found\n",
     "output_type": "error",
     "traceback": [
      "Error in stri_replace_all_regex(string, pattern, fix_replacement(replacement), : object 'term_sam' not found\nTraceback:\n",
      "1. term_sam$outcome %>% str_replace_all(\"recovered\", \"Recovered\") %>% \n .     str_replace_all(\"deceased\", \"Deceased\") %>% str_replace_all(\"stabilized\", \n .     \"Stabilized\")",
      "2. str_replace_all(., \"stabilized\", \"Stabilized\")",
      "3. stri_replace_all_regex(string, pattern, fix_replacement(replacement), \n .     vectorize_all = vec, opts_regex = opts(pattern))",
      "4. str_replace_all(., \"deceased\", \"Deceased\")",
      "5. stri_replace_all_regex(string, pattern, fix_replacement(replacement), \n .     vectorize_all = vec, opts_regex = opts(pattern))",
      "6. str_replace_all(., \"recovered\", \"Recovered\")",
      "7. stri_replace_all_regex(string, pattern, fix_replacement(replacement), \n .     vectorize_all = vec, opts_regex = opts(pattern))"
     ]
    }
   ],
   "source": [
    "term_sam$outcome<-term_sam$outcome%>%\n",
    "  str_replace_all(\"recovered\", \"Recovered\")%>%\n",
    "  str_replace_all(\"deceased\",\"Deceased\")%>%\n",
    "  str_replace_all('stabilized',\"Stabilized\")\n",
    "term_sam$sex<-term_sam$sex%>%\n",
    "  str_replace_all(\"M\", \"male\")%>%\n",
    "  str_replace_all(\"F\", \"female\")%>%\n",
    "  str_replace_all(\"na\", \"<NA>\") # this is mixing the string \"<NA>\" with actual NAs, probably not related to our problem, but def not a good idea in general"
   ]
  },
  {
   "cell_type": "code",
   "execution_count": 9,
   "metadata": {},
   "outputs": [
    {
     "ename": "ERROR",
     "evalue": "Error in phyloseq(term_counts_phy, term_tax_phy, sample_data(term_sam)): object 'term_counts_phy' not found\n",
     "output_type": "error",
     "traceback": [
      "Error in phyloseq(term_counts_phy, term_tax_phy, sample_data(term_sam)): object 'term_counts_phy' not found\nTraceback:\n",
      "1. phyloseq(term_counts_phy, term_tax_phy, sample_data(term_sam))"
     ]
    }
   ],
   "source": [
    "term_pseq <- phyloseq(term_counts_phy, term_tax_phy, sample_data(term_sam))\n",
    "term_pseq# [ 14581 taxa and 167 samples ] [ 27077 taxa and 167 samples ]"
   ]
  },
  {
   "cell_type": "code",
   "execution_count": 10,
   "metadata": {},
   "outputs": [
    {
     "ename": "ERROR",
     "evalue": "Error in h(simpleError(msg, call)): error in evaluating the argument 'taxa' in selecting a method for function 'prune_taxa': error in evaluating the argument 'physeq' in selecting a method for function 'taxa_names': object 'term_pseq' not found\n",
     "output_type": "error",
     "traceback": [
      "Error in h(simpleError(msg, call)): error in evaluating the argument 'taxa' in selecting a method for function 'prune_taxa': error in evaluating the argument 'physeq' in selecting a method for function 'taxa_names': object 'term_pseq' not found\nTraceback:\n",
      "1. prune_taxa(taxa = taxa_names(term_pseq) != filtme, term_pseq)",
      "2. taxa_names(term_pseq)",
      "3. .handleSimpleError(function (cond) \n . .Internal(C_tryCatchHelper(addr, 1L, cond)), \"object 'term_pseq' not found\", \n .     base::quote(taxa_names(term_pseq)))",
      "4. h(simpleError(msg, call))",
      "5. .handleSimpleError(function (cond) \n . .Internal(C_tryCatchHelper(addr, 1L, cond)), \"error in evaluating the argument 'physeq' in selecting a method for function 'taxa_names': object 'term_pseq' not found\", \n .     base::quote(h(simpleError(msg, call))))",
      "6. h(simpleError(msg, call))"
     ]
    }
   ],
   "source": [
    "filtme<-c(\"GO:0003674\")\n",
    "term_pseq <- prune_taxa(taxa=taxa_names(term_pseq)!=filtme, term_pseq)\n",
    "filtme<-c(\"GO:0008150\")\n",
    "term_pseq <- prune_taxa(taxa=taxa_names(term_pseq)!=filtme, term_pseq)\n",
    "term_pseq #[ 14579 taxa and 167 samples ]"
   ]
  },
  {
   "cell_type": "code",
   "execution_count": 11,
   "metadata": {},
   "outputs": [
    {
     "ename": "ERROR",
     "evalue": "Error in eval(expr, envir, enclos): object 'term_pseq' not found\n",
     "output_type": "error",
     "traceback": [
      "Error in eval(expr, envir, enclos): object 'term_pseq' not found\nTraceback:\n"
     ]
    }
   ],
   "source": [
    "term_pseq_no_neg<-term_pseq\n",
    "term_pseq_no_neg<-subset_samples(term_pseq, sample_type!=\"neg_control\")\n",
    "term_pseq_no_neg# [ 14579 taxa and 162 samples ]:\n",
    "term_pseq_no_neg<-subset_samples(term_pseq_no_neg, sample_type!=\"Unknown\")\n",
    "term_pseq_no_neg#  [ 14579 taxa and 141 samples ]:\n",
    "term_pseq_no_neg<-subset_samples(term_pseq_no_neg, case!=\"Control_Sick\")\n",
    "term_pseq_no_neg# [ 14597 taxa and 105 samples ]\n",
    "term_pseq_no_neg<-subset_samples(term_pseq_no_neg,publication!=\"Michalovich\")\n",
    "term_pseq_no_neg# [ 14597 taxa and 102 samples ]\n",
    "term_pseq_no_neg<-subset_samples(term_pseq_no_neg, bioproject!=\"PRJNA605907\")\n",
    "term_pseq_no_neg# [ 14597 taxa and 86 samples ]\n",
    "term_pseq_no_neg<-prune_taxa(taxa = taxa_sums(term_pseq_no_neg)>0,x = term_pseq_no_neg)\n",
    "term_pseq_no_neg# [ 13534 taxa and 86 samples ]\n",
    "term_pseq_no_neg<-prune_samples(samples = sample_sums(term_pseq_no_neg)>0,x = term_pseq_no_neg)\n",
    "term_pseq_no_neg# [ 13534 taxa and 86 samples ] # [ 25426 taxa and 86 samples ]\n",
    "term_pseq_no_neg_gonames<-term_pseq_no_neg"
   ]
  },
  {
   "cell_type": "code",
   "execution_count": 12,
   "metadata": {},
   "outputs": [
    {
     "ename": "ERROR",
     "evalue": "Error in h(simpleError(msg, call)): error in evaluating the argument 'object' in selecting a method for function 'tax_table': object 'term_pseq_no_neg' not found\n",
     "output_type": "error",
     "traceback": [
      "Error in h(simpleError(msg, call)): error in evaluating the argument 'object' in selecting a method for function 'tax_table': object 'term_pseq_no_neg' not found\nTraceback:\n",
      "1. data.frame(tax_table(term_pseq_no_neg))",
      "2. tax_table(term_pseq_no_neg)",
      "3. .handleSimpleError(function (cond) \n . .Internal(C_tryCatchHelper(addr, 1L, cond)), \"object 'term_pseq_no_neg' not found\", \n .     base::quote(tax_table(term_pseq_no_neg)))",
      "4. h(simpleError(msg, call))"
     ]
    }
   ],
   "source": [
    "tax<-data.frame(tax_table(term_pseq_no_neg))\n",
    "names<-paste(rownames(tax),tax$name,sep=\"-\")\n",
    "taxa_names(term_pseq_no_neg)<-names"
   ]
  },
  {
   "cell_type": "code",
   "execution_count": 13,
   "metadata": {},
   "outputs": [
    {
     "name": "stderr",
     "output_type": "stream",
     "text": [
      "Warning message in gzfile(file, \"wb\"):\n",
      "“cannot open compressed file './images/0_preprocessing.RDATmp', probable reason 'No such file or directory'”\n"
     ]
    },
    {
     "ename": "ERROR",
     "evalue": "Error in gzfile(file, \"wb\"): cannot open the connection\n",
     "output_type": "error",
     "traceback": [
      "Error in gzfile(file, \"wb\"): cannot open the connection\nTraceback:\n",
      "1. save.image(file = \"./images/0_preprocessing.RDA\")",
      "2. save(list = names(.GlobalEnv), file = outfile, version = version, \n .     ascii = ascii, compress = compress, envir = .GlobalEnv, precheck = FALSE)",
      "3. gzfile(file, \"wb\")"
     ]
    },
    {
     "name": "stderr",
     "output_type": "stream",
     "text": [
      "Warning message in file.remove(outfile):\n",
      "“cannot remove file './images/0_preprocessing.RDATmp', reason 'No such file or directory'”\n"
     ]
    }
   ],
   "source": [
    "save.image(file = \"./images/0_preprocessing.RDA\")"
   ]
  },
  {
   "cell_type": "code",
   "execution_count": null,
   "metadata": {},
   "outputs": [],
   "source": []
  },
  {
   "cell_type": "code",
   "execution_count": null,
   "metadata": {},
   "outputs": [],
   "source": []
  },
  {
   "cell_type": "code",
   "execution_count": null,
   "metadata": {},
   "outputs": [],
   "source": []
  }
 ],
 "metadata": {
  "kernelspec": {
   "display_name": "R",
   "language": "R",
   "name": "ir"
  },
  "language_info": {
   "codemirror_mode": "r",
   "file_extension": ".r",
   "mimetype": "text/x-r-source",
   "name": "R",
   "pygments_lexer": "r",
   "version": "4.0.3"
  }
 },
 "nbformat": 4,
 "nbformat_minor": 4
}
