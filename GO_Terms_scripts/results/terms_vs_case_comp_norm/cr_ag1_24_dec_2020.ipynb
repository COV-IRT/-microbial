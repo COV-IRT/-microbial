{
 "cells": [
  {
   "cell_type": "code",
   "execution_count": 1,
   "metadata": {},
   "outputs": [
    {
     "name": "stderr",
     "output_type": "stream",
     "text": [
      "Loading required package: lattice\n",
      "\n",
      "Loading required package: ggplot2\n",
      "\n",
      "── \u001b[1mAttaching packages\u001b[22m ─────────────────────────────────────── tidyverse 1.3.0 ──\n",
      "\n",
      "\u001b[32m✔\u001b[39m \u001b[34mtibble \u001b[39m 3.0.4     \u001b[32m✔\u001b[39m \u001b[34mdplyr  \u001b[39m 1.0.2\n",
      "\u001b[32m✔\u001b[39m \u001b[34mtidyr  \u001b[39m 1.1.2     \u001b[32m✔\u001b[39m \u001b[34mstringr\u001b[39m 1.4.0\n",
      "\u001b[32m✔\u001b[39m \u001b[34mreadr  \u001b[39m 1.4.0     \u001b[32m✔\u001b[39m \u001b[34mforcats\u001b[39m 0.5.0\n",
      "\u001b[32m✔\u001b[39m \u001b[34mpurrr  \u001b[39m 0.3.4     \n",
      "\n",
      "── \u001b[1mConflicts\u001b[22m ────────────────────────────────────────── tidyverse_conflicts() ──\n",
      "\u001b[31m✖\u001b[39m \u001b[34mdplyr\u001b[39m::\u001b[32mfilter()\u001b[39m masks \u001b[34mstats\u001b[39m::filter()\n",
      "\u001b[31m✖\u001b[39m \u001b[34mdplyr\u001b[39m::\u001b[32mlag()\u001b[39m    masks \u001b[34mstats\u001b[39m::lag()\n",
      "\u001b[31m✖\u001b[39m \u001b[34mpurrr\u001b[39m::\u001b[32mlift()\u001b[39m   masks \u001b[34mcaret\u001b[39m::lift()\n",
      "\n",
      "Loading required package: foreach\n",
      "\n",
      "\n",
      "Attaching package: ‘foreach’\n",
      "\n",
      "\n",
      "The following objects are masked from ‘package:purrr’:\n",
      "\n",
      "    accumulate, when\n",
      "\n",
      "\n",
      "Loading required package: iterators\n",
      "\n",
      "Loading required package: parallel\n",
      "\n"
     ]
    }
   ],
   "source": [
    "library(caret)\n",
    "library(tidyverse)\n",
    "library(tictoc)\n",
    "library(doParallel)\n",
    "library(parallel)\n",
    "setwd('/media/jochum00/Aagaard_Raid3/michael_files/cr/')"
   ]
  },
  {
   "cell_type": "markdown",
   "metadata": {},
   "source": [
    "# 0. import and preprocess the data"
   ]
  },
  {
   "cell_type": "code",
   "execution_count": 2,
   "metadata": {},
   "outputs": [],
   "source": [
    "df<-as_tibble(read.table(\"crypto_sheet_2020-12-08_v3.tsv\",sep = \"\\t\",quote = \"\",header = T,row.names = NULL))\n",
    "df$id<-factor(df$id)\n",
    "df$symbol<-NULL\n",
    "df$ranknow<-as_factor(df$ranknow)\n",
    "vars<-colnames(df)"
   ]
  },
  {
   "cell_type": "code",
   "execution_count": 3,
   "metadata": {},
   "outputs": [
    {
     "data": {
      "text/html": [
       "2073"
      ],
      "text/latex": [
       "2073"
      ],
      "text/markdown": [
       "2073"
      ],
      "text/plain": [
       "[1] 2073"
      ]
     },
     "metadata": {},
     "output_type": "display_data"
    }
   ],
   "source": [
    "df_full<-df\n",
    "length(unique(df$slug))"
   ]
  },
  {
   "cell_type": "code",
   "execution_count": 4,
   "metadata": {},
   "outputs": [],
   "source": [
    "df<-df_full %>%select(-c(high,low,close,volume, market,spread,net,name))\n",
    "df<-df[complete.cases(df), ]\n",
    "df<-df%>%arrange(ranknow)\n",
    "df$date<-as.Date(df$date)\n",
    "df_dec<-df%>%filter(date>\"2020-12-01\")\n",
    "df_dec$slug<-factor(df_dec$slug)\n",
    "df<-df%>%filter(slug %in% df_dec$slug)\n",
    "df$slug<-factor(df$slug)\n",
    "df$ranknow<-as.numeric(df$ranknow)\n",
    "df$id<-as.factor(df$id)\n",
    "df$day<-factor(df$day)\n",
    "df$month<-factor(df$month)\n",
    "df$year<-factor(df$year)\n",
    "df<-df %>%filter(netnorm<200)%>%filter(netnorm>-50)\n",
    "df<-df%>%filter(date>\"2018-01-01\")\n",
    "df$slug<-factor(df$slug)"
   ]
  },
  {
   "cell_type": "code",
   "execution_count": 5,
   "metadata": {},
   "outputs": [],
   "source": [
    "nrows<-nrow(df)\n",
    "testnrows<-nrow(df)*0.2\n",
    "test<-df[sample(nrow(df), testnrows), ]\n",
    "train<-df%>%filter(!id %in%test$id)\n",
    "nrows<-nrow(train)\n",
    "trainrows<-nrow(train)*0.2\n",
    "test_small<-train[sample(nrow(train),trainrows), ]\n",
    "train_small<-train%>%filter(!id %in%test_small$id)\n",
    "train$id<-NULL\n",
    "test$id<-NULL\n",
    "train_small$id<-NULL\n",
    "test_small$id<-NULL"
   ]
  },
  {
   "cell_type": "markdown",
   "metadata": {},
   "source": [
    "# 1. modeling\n",
    "start up the cluster"
   ]
  },
  {
   "cell_type": "code",
   "execution_count": 6,
   "metadata": {},
   "outputs": [],
   "source": [
    "cl <- makePSOCKcluster(48)\n",
    "registerDoParallel(cl)"
   ]
  },
  {
   "cell_type": "markdown",
   "metadata": {},
   "source": [
    "make 3 functions that will:\n",
    "- run a model\n",
    "- make predictions\n",
    "- evaluate the model"
   ]
  },
  {
   "cell_type": "code",
   "execution_count": 7,
   "metadata": {},
   "outputs": [],
   "source": [
    "tryme<-function(meth){\n",
    "    tic()\n",
    "    mod<-train(netnorm ~ .,data = train,method = meth)\n",
    "    toc()\n",
    "    return(mod)\n",
    "}\n",
    "predictme<-function (model){\n",
    "    model_pred <- predict(model, test)\n",
    "    return(model_pred)\n",
    "}\n",
    "evaluate<-function (model_pred){\n",
    "    model_pred <- predict(model, test)\n",
    "    postres<-postResample(pred = model_pred, obs = test$netnorm)\n",
    "    return(postres)\n",
    "}"
   ]
  },
  {
   "cell_type": "markdown",
   "metadata": {},
   "source": [
    "# Evaluate the most disparate 4 models based on Jaccard difference\n",
    "\n",
    "https://topepo.github.io/caret/models-clustered-by-tag-similarity.html"
   ]
  },
  {
   "cell_type": "raw",
   "metadata": {},
   "source": [
    "## [1] \"Support Vector Machines with Radial Basis Function Kernel (svmRadial)\"\n",
    "## [2] \"Cubist (cubist)\"                                                      \n",
    "## [3] \"Bayesian Regularized Neural Networks (brnn)\"                          \n",
    "## [4] \"Negative Binomial Generalized Linear Model (glm.nb)\"                  \n",
    "## [5] \"Logic Regression (logreg)\""
   ]
  },
  {
   "cell_type": "markdown",
   "metadata": {},
   "source": [
    "## [1] \"Support Vector Machines with Radial Basis Function Kernel (svmRadial)\""
   ]
  },
  {
   "cell_type": "code",
   "execution_count": 8,
   "metadata": {},
   "outputs": [
    {
     "name": "stderr",
     "output_type": "stream",
     "text": [
      "Warning message in .local(x, ...):\n",
      "“Variable(s) `' constant. Cannot scale data.”\n",
      "Warning message in .local(x, ...):\n",
      "“Variable(s) `' constant. Cannot scale data.”\n"
     ]
    },
    {
     "name": "stdout",
     "output_type": "stream",
     "text": [
      "8426.345 sec elapsed\n"
     ]
    }
   ],
   "source": [
    "mod_svmRadial<-tryme('svmRadial')"
   ]
  },
  {
   "cell_type": "code",
   "execution_count": 9,
   "metadata": {},
   "outputs": [],
   "source": [
    "saveRDS(object = mod_svmRadial, file = \"mod_svmRadial.rds\")"
   ]
  },
  {
   "cell_type": "code",
   "execution_count": 10,
   "metadata": {},
   "outputs": [
    {
     "name": "stderr",
     "output_type": "stream",
     "text": [
      "also installing the dependencies ‘plotrix’, ‘plotmo’, ‘TeachingDemos’\n",
      "\n",
      "\n",
      "Updating HTML index of packages in '.Library'\n",
      "\n",
      "Making 'packages.html' ...\n",
      " done\n",
      "\n"
     ]
    }
   ],
   "source": [
    "install.packages('earth')"
   ]
  },
  {
   "cell_type": "code",
   "execution_count": null,
   "metadata": {},
   "outputs": [],
   "source": [
    "mod_bagEarth<-tryme('bagEarth')"
   ]
  },
  {
   "cell_type": "code",
   "execution_count": 17,
   "metadata": {},
   "outputs": [
    {
     "ename": "ERROR",
     "evalue": "Error in saveRDS(object = mod_bagEarth, file = \"mod_bagEarth.RDS\"): object 'mod_bagEarth' not found\n",
     "output_type": "error",
     "traceback": [
      "Error in saveRDS(object = mod_bagEarth, file = \"mod_bagEarth.RDS\"): object 'mod_bagEarth' not found\nTraceback:\n",
      "1. saveRDS(object = mod_bagEarth, file = \"mod_bagEarth.RDS\")"
     ]
    }
   ],
   "source": [
    "saveRDS(object = mod_bagEarth, file = \"mod_bagEarth.RDS\")"
   ]
  },
  {
   "cell_type": "code",
   "execution_count": null,
   "metadata": {},
   "outputs": [],
   "source": [
    "mod_bam <- train(netnorm~.,\n",
    "                   data = train,\n",
    "                   method = \"bam\")\n",
    "                   trControl = trainControl(method = \"cv\"))"
   ]
  },
  {
   "cell_type": "code",
   "execution_count": 18,
   "metadata": {},
   "outputs": [
    {
     "ename": "ERROR",
     "evalue": "Error in saveRDS(object = mod_bam, file = \"mod_bam.rds\"): object 'mod_bam' not found\n",
     "output_type": "error",
     "traceback": [
      "Error in saveRDS(object = mod_bam, file = \"mod_bam.rds\"): object 'mod_bam' not found\nTraceback:\n",
      "1. saveRDS(object = mod_bam, file = \"mod_bam.rds\")"
     ]
    }
   ],
   "source": [
    "saveRDS(object = mod_bam, file = \"mod_bam.rds\")"
   ]
  },
  {
   "cell_type": "code",
   "execution_count": 16,
   "metadata": {},
   "outputs": [
    {
     "data": {
      "text/html": [
       "<style>\n",
       ".list-inline {list-style: none; margin:0; padding: 0}\n",
       ".list-inline>li {display: inline-block}\n",
       ".list-inline>li:not(:last-child)::after {content: \"\\00b7\"; padding: 0 .5ex}\n",
       "</style>\n",
       "<ol class=list-inline><li>'cl'</li><li>'df'</li><li>'df_dec'</li><li>'df_full'</li><li>'evaluate'</li><li>'mod_svmRadial'</li><li>'nrows'</li><li>'predictme'</li><li>'test'</li><li>'test_small'</li><li>'testnrows'</li><li>'train'</li><li>'train_small'</li><li>'trainrows'</li><li>'tryme'</li><li>'vars'</li></ol>\n"
      ],
      "text/latex": [
       "\\begin{enumerate*}\n",
       "\\item 'cl'\n",
       "\\item 'df'\n",
       "\\item 'df\\_dec'\n",
       "\\item 'df\\_full'\n",
       "\\item 'evaluate'\n",
       "\\item 'mod\\_svmRadial'\n",
       "\\item 'nrows'\n",
       "\\item 'predictme'\n",
       "\\item 'test'\n",
       "\\item 'test\\_small'\n",
       "\\item 'testnrows'\n",
       "\\item 'train'\n",
       "\\item 'train\\_small'\n",
       "\\item 'trainrows'\n",
       "\\item 'tryme'\n",
       "\\item 'vars'\n",
       "\\end{enumerate*}\n"
      ],
      "text/markdown": [
       "1. 'cl'\n",
       "2. 'df'\n",
       "3. 'df_dec'\n",
       "4. 'df_full'\n",
       "5. 'evaluate'\n",
       "6. 'mod_svmRadial'\n",
       "7. 'nrows'\n",
       "8. 'predictme'\n",
       "9. 'test'\n",
       "10. 'test_small'\n",
       "11. 'testnrows'\n",
       "12. 'train'\n",
       "13. 'train_small'\n",
       "14. 'trainrows'\n",
       "15. 'tryme'\n",
       "16. 'vars'\n",
       "\n",
       "\n"
      ],
      "text/plain": [
       " [1] \"cl\"            \"df\"            \"df_dec\"        \"df_full\"      \n",
       " [5] \"evaluate\"      \"mod_svmRadial\" \"nrows\"         \"predictme\"    \n",
       " [9] \"test\"          \"test_small\"    \"testnrows\"     \"train\"        \n",
       "[13] \"train_small\"   \"trainrows\"     \"tryme\"         \"vars\"         "
      ]
     },
     "metadata": {},
     "output_type": "display_data"
    },
    {
     "data": {
      "text/html": [
       "'/media/jochum00/Aagaard_Raid3/michael_files/cr'"
      ],
      "text/latex": [
       "'/media/jochum00/Aagaard\\_Raid3/michael\\_files/cr'"
      ],
      "text/markdown": [
       "'/media/jochum00/Aagaard_Raid3/michael_files/cr'"
      ],
      "text/plain": [
       "[1] \"/media/jochum00/Aagaard_Raid3/michael_files/cr\""
      ]
     },
     "metadata": {},
     "output_type": "display_data"
    }
   ],
   "source": [
    "ls()\n",
    "getwd()\n"
   ]
  }
 ],
 "metadata": {
  "kernelspec": {
   "display_name": "R",
   "language": "R",
   "name": "ir"
  },
  "language_info": {
   "codemirror_mode": "r",
   "file_extension": ".r",
   "mimetype": "text/x-r-source",
   "name": "R",
   "pygments_lexer": "r",
   "version": "4.0.3"
  }
 },
 "nbformat": 4,
 "nbformat_minor": 4
}
